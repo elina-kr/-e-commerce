{
 "cells": [
  {
   "cell_type": "markdown",
   "metadata": {},
   "source": [
    "### Проект e-commerce\n",
    "\n",
    "Sales data from the online store.\n",
    "There are three data tables:\n",
    "1. df_orders - Orders table \n",
    "2. df_customers - Table with unique user identifiers\n",
    "3. df_item - Items included in orders\n",
    "\n",
    "I will analyze completed purchases and answer the following questions:\n",
    "\n",
    "1. How many users have made a purchase only once?\n",
    "\n",
    "2. On average, how many orders per month are not delivered for various reasons? (Provide a breakdown by reasons)\n",
    "\n",
    "3. For each item, determine which day of the week it is most frequently purchased.\n",
    "\n",
    "4. How many purchases per week does each user make on average (per month)?\n",
    "\n",
    "5. I will perform cohort analysis of users.\n",
    "\n",
    "6. I will build RFM segmentation of users to qualitatively assess our audience."
   ]
  },
  {
   "cell_type": "code",
   "execution_count": 1,
   "metadata": {},
   "outputs": [],
   "source": [
    "import pandas as pd \n",
    "import numpy as np\n",
    "from datetime import datetime\n",
    "import calendar\n",
    "import requests\n",
    "from urllib.parse import urlencode\n",
    "import matplotlib.pyplot as plt\n",
    "import seaborn as sns\n",
    "from datetime import timedelta\n",
    "\n",
    "\n"
   ]
  },
  {
   "cell_type": "code",
   "execution_count": 2,
   "metadata": {},
   "outputs": [],
   "source": [
    "# Base URL for accessing Yandex Disk\n",
    "base_url = 'https://cloud-api.yandex.net/v1/disk/public/resources/download?'\n",
    "# File URLs on Yandex Disk\n",
    "url_customers = 'https://disk.yandex.ru/d/QXrVDUoQvFhIcg'\n",
    "url_orders = 'https://disk.yandex.ru/d/0zWmh1bYP6REbw'\n",
    "url_order_items = 'https://disk.yandex.ru/d/xCsQ0FiC-Ue4Lg'\n",
    "\n",
    "# Creating final URLs for downloading each file by combining the base URL and query parameters\n",
    "# using the urlencode() function from the urllib.parse module\n",
    "final_url_customers = base_url + urlencode(dict(public_key=url_customers))\n",
    "final_url_orders = base_url + urlencode(dict(public_key=url_orders))\n",
    "final_url_key_order_items = base_url + urlencode(dict(public_key=url_order_items))\n",
    "\n",
    "# Making requests to the Yandex Disk API to download the files using the generated final URLs\n",
    "# The requests.get() function returns a response in JSON format, from which the download URL ('href') is extracted\n",
    "df_customers = pd.read_csv(requests.get(final_url_customers).json()['href'])\n",
    "df_orders = pd.read_csv(requests.get(final_url_orders).json()['href'])\n",
    "df_items = pd.read_csv(requests.get(final_url_key_order_items).json()['href'])\n"
   ]
  },
  {
   "cell_type": "markdown",
   "metadata": {},
   "source": [
    "### EDA"
   ]
  },
  {
   "cell_type": "markdown",
   "metadata": {},
   "source": [
    "Orders table df_orders\n",
    "- order_id — unique order identifier (receipt number)\n",
    "- customer_id — customer identifier per order\n",
    "- order_status — order status\n",
    "- order_purchase_timestamp — order creation time\n",
    "- order_approved_at — order payment confirmation time\n",
    "- order_delivered_carrier_date — time the order was handed over to the logistics service\n",
    "- order_delivered_customer_date — order delivery time\n",
    "- order_estimated_delivery_date — promised delivery date"
   ]
  },
  {
   "cell_type": "code",
   "execution_count": 3,
   "metadata": {},
   "outputs": [
    {
     "data": {
      "text/html": [
       "<div>\n",
       "<style scoped>\n",
       "    .dataframe tbody tr th:only-of-type {\n",
       "        vertical-align: middle;\n",
       "    }\n",
       "\n",
       "    .dataframe tbody tr th {\n",
       "        vertical-align: top;\n",
       "    }\n",
       "\n",
       "    .dataframe thead th {\n",
       "        text-align: right;\n",
       "    }\n",
       "</style>\n",
       "<table border=\"1\" class=\"dataframe\">\n",
       "  <thead>\n",
       "    <tr style=\"text-align: right;\">\n",
       "      <th></th>\n",
       "      <th>order_id</th>\n",
       "      <th>customer_id</th>\n",
       "      <th>order_status</th>\n",
       "      <th>order_purchase_timestamp</th>\n",
       "      <th>order_approved_at</th>\n",
       "      <th>order_delivered_carrier_date</th>\n",
       "      <th>order_delivered_customer_date</th>\n",
       "      <th>order_estimated_delivery_date</th>\n",
       "    </tr>\n",
       "  </thead>\n",
       "  <tbody>\n",
       "    <tr>\n",
       "      <th>0</th>\n",
       "      <td>e481f51cbdc54678b7cc49136f2d6af7</td>\n",
       "      <td>9ef432eb6251297304e76186b10a928d</td>\n",
       "      <td>delivered</td>\n",
       "      <td>2017-10-02 10:56:33</td>\n",
       "      <td>2017-10-02 11:07:15</td>\n",
       "      <td>2017-10-04 19:55:00</td>\n",
       "      <td>2017-10-10 21:25:13</td>\n",
       "      <td>2017-10-18 00:00:00</td>\n",
       "    </tr>\n",
       "    <tr>\n",
       "      <th>1</th>\n",
       "      <td>53cdb2fc8bc7dce0b6741e2150273451</td>\n",
       "      <td>b0830fb4747a6c6d20dea0b8c802d7ef</td>\n",
       "      <td>delivered</td>\n",
       "      <td>2018-07-24 20:41:37</td>\n",
       "      <td>2018-07-26 03:24:27</td>\n",
       "      <td>2018-07-26 14:31:00</td>\n",
       "      <td>2018-08-07 15:27:45</td>\n",
       "      <td>2018-08-13 00:00:00</td>\n",
       "    </tr>\n",
       "    <tr>\n",
       "      <th>2</th>\n",
       "      <td>47770eb9100c2d0c44946d9cf07ec65d</td>\n",
       "      <td>41ce2a54c0b03bf3443c3d931a367089</td>\n",
       "      <td>delivered</td>\n",
       "      <td>2018-08-08 08:38:49</td>\n",
       "      <td>2018-08-08 08:55:23</td>\n",
       "      <td>2018-08-08 13:50:00</td>\n",
       "      <td>2018-08-17 18:06:29</td>\n",
       "      <td>2018-09-04 00:00:00</td>\n",
       "    </tr>\n",
       "    <tr>\n",
       "      <th>3</th>\n",
       "      <td>949d5b44dbf5de918fe9c16f97b45f8a</td>\n",
       "      <td>f88197465ea7920adcdbec7375364d82</td>\n",
       "      <td>delivered</td>\n",
       "      <td>2017-11-18 19:28:06</td>\n",
       "      <td>2017-11-18 19:45:59</td>\n",
       "      <td>2017-11-22 13:39:59</td>\n",
       "      <td>2017-12-02 00:28:42</td>\n",
       "      <td>2017-12-15 00:00:00</td>\n",
       "    </tr>\n",
       "    <tr>\n",
       "      <th>4</th>\n",
       "      <td>ad21c59c0840e6cb83a9ceb5573f8159</td>\n",
       "      <td>8ab97904e6daea8866dbdbc4fb7aad2c</td>\n",
       "      <td>delivered</td>\n",
       "      <td>2018-02-13 21:18:39</td>\n",
       "      <td>2018-02-13 22:20:29</td>\n",
       "      <td>2018-02-14 19:46:34</td>\n",
       "      <td>2018-02-16 18:17:02</td>\n",
       "      <td>2018-02-26 00:00:00</td>\n",
       "    </tr>\n",
       "  </tbody>\n",
       "</table>\n",
       "</div>"
      ],
      "text/plain": [
       "                           order_id                       customer_id  \\\n",
       "0  e481f51cbdc54678b7cc49136f2d6af7  9ef432eb6251297304e76186b10a928d   \n",
       "1  53cdb2fc8bc7dce0b6741e2150273451  b0830fb4747a6c6d20dea0b8c802d7ef   \n",
       "2  47770eb9100c2d0c44946d9cf07ec65d  41ce2a54c0b03bf3443c3d931a367089   \n",
       "3  949d5b44dbf5de918fe9c16f97b45f8a  f88197465ea7920adcdbec7375364d82   \n",
       "4  ad21c59c0840e6cb83a9ceb5573f8159  8ab97904e6daea8866dbdbc4fb7aad2c   \n",
       "\n",
       "  order_status order_purchase_timestamp    order_approved_at  \\\n",
       "0    delivered      2017-10-02 10:56:33  2017-10-02 11:07:15   \n",
       "1    delivered      2018-07-24 20:41:37  2018-07-26 03:24:27   \n",
       "2    delivered      2018-08-08 08:38:49  2018-08-08 08:55:23   \n",
       "3    delivered      2017-11-18 19:28:06  2017-11-18 19:45:59   \n",
       "4    delivered      2018-02-13 21:18:39  2018-02-13 22:20:29   \n",
       "\n",
       "  order_delivered_carrier_date order_delivered_customer_date  \\\n",
       "0          2017-10-04 19:55:00           2017-10-10 21:25:13   \n",
       "1          2018-07-26 14:31:00           2018-08-07 15:27:45   \n",
       "2          2018-08-08 13:50:00           2018-08-17 18:06:29   \n",
       "3          2017-11-22 13:39:59           2017-12-02 00:28:42   \n",
       "4          2018-02-14 19:46:34           2018-02-16 18:17:02   \n",
       "\n",
       "  order_estimated_delivery_date  \n",
       "0           2017-10-18 00:00:00  \n",
       "1           2018-08-13 00:00:00  \n",
       "2           2018-09-04 00:00:00  \n",
       "3           2017-12-15 00:00:00  \n",
       "4           2018-02-26 00:00:00  "
      ]
     },
     "execution_count": 3,
     "metadata": {},
     "output_type": "execute_result"
    }
   ],
   "source": [
    "df_orders.head()"
   ]
  },
  {
   "cell_type": "markdown",
   "metadata": {},
   "source": [
    "Users table df_customers\n",
    "- customer_id — customer identifier per order\n",
    "- customer_unique_id — unique customer identifier (similar to a passport number)\n",
    "- customer_zip_code_prefix — customer's postal code\n",
    "- customer_city — customer's delivery city\n",
    "- customer_state — customer's delivery state"
   ]
  },
  {
   "cell_type": "code",
   "execution_count": 4,
   "metadata": {},
   "outputs": [
    {
     "data": {
      "text/html": [
       "<div>\n",
       "<style scoped>\n",
       "    .dataframe tbody tr th:only-of-type {\n",
       "        vertical-align: middle;\n",
       "    }\n",
       "\n",
       "    .dataframe tbody tr th {\n",
       "        vertical-align: top;\n",
       "    }\n",
       "\n",
       "    .dataframe thead th {\n",
       "        text-align: right;\n",
       "    }\n",
       "</style>\n",
       "<table border=\"1\" class=\"dataframe\">\n",
       "  <thead>\n",
       "    <tr style=\"text-align: right;\">\n",
       "      <th></th>\n",
       "      <th>customer_id</th>\n",
       "      <th>customer_unique_id</th>\n",
       "      <th>customer_zip_code_prefix</th>\n",
       "      <th>customer_city</th>\n",
       "      <th>customer_state</th>\n",
       "    </tr>\n",
       "  </thead>\n",
       "  <tbody>\n",
       "    <tr>\n",
       "      <th>0</th>\n",
       "      <td>06b8999e2fba1a1fbc88172c00ba8bc7</td>\n",
       "      <td>861eff4711a542e4b93843c6dd7febb0</td>\n",
       "      <td>14409</td>\n",
       "      <td>franca</td>\n",
       "      <td>SP</td>\n",
       "    </tr>\n",
       "    <tr>\n",
       "      <th>1</th>\n",
       "      <td>18955e83d337fd6b2def6b18a428ac77</td>\n",
       "      <td>290c77bc529b7ac935b93aa66c333dc3</td>\n",
       "      <td>9790</td>\n",
       "      <td>sao bernardo do campo</td>\n",
       "      <td>SP</td>\n",
       "    </tr>\n",
       "    <tr>\n",
       "      <th>2</th>\n",
       "      <td>4e7b3e00288586ebd08712fdd0374a03</td>\n",
       "      <td>060e732b5b29e8181a18229c7b0b2b5e</td>\n",
       "      <td>1151</td>\n",
       "      <td>sao paulo</td>\n",
       "      <td>SP</td>\n",
       "    </tr>\n",
       "    <tr>\n",
       "      <th>3</th>\n",
       "      <td>b2b6027bc5c5109e529d4dc6358b12c3</td>\n",
       "      <td>259dac757896d24d7702b9acbbff3f3c</td>\n",
       "      <td>8775</td>\n",
       "      <td>mogi das cruzes</td>\n",
       "      <td>SP</td>\n",
       "    </tr>\n",
       "    <tr>\n",
       "      <th>4</th>\n",
       "      <td>4f2d8ab171c80ec8364f7c12e35b23ad</td>\n",
       "      <td>345ecd01c38d18a9036ed96c73b8d066</td>\n",
       "      <td>13056</td>\n",
       "      <td>campinas</td>\n",
       "      <td>SP</td>\n",
       "    </tr>\n",
       "  </tbody>\n",
       "</table>\n",
       "</div>"
      ],
      "text/plain": [
       "                        customer_id                customer_unique_id  \\\n",
       "0  06b8999e2fba1a1fbc88172c00ba8bc7  861eff4711a542e4b93843c6dd7febb0   \n",
       "1  18955e83d337fd6b2def6b18a428ac77  290c77bc529b7ac935b93aa66c333dc3   \n",
       "2  4e7b3e00288586ebd08712fdd0374a03  060e732b5b29e8181a18229c7b0b2b5e   \n",
       "3  b2b6027bc5c5109e529d4dc6358b12c3  259dac757896d24d7702b9acbbff3f3c   \n",
       "4  4f2d8ab171c80ec8364f7c12e35b23ad  345ecd01c38d18a9036ed96c73b8d066   \n",
       "\n",
       "   customer_zip_code_prefix          customer_city customer_state  \n",
       "0                     14409                 franca             SP  \n",
       "1                      9790  sao bernardo do campo             SP  \n",
       "2                      1151              sao paulo             SP  \n",
       "3                      8775        mogi das cruzes             SP  \n",
       "4                     13056               campinas             SP  "
      ]
     },
     "execution_count": 4,
     "metadata": {},
     "output_type": "execute_result"
    }
   ],
   "source": [
    "df_customers.head()"
   ]
  },
  {
   "cell_type": "markdown",
   "metadata": {},
   "source": [
    "Items table df_items\n",
    "- order_id — unique order identifier (receipt number)\n",
    "- order_item_id — item identifier within an order\n",
    "- product_id — product ID (similar to a barcode)\n",
    "- seller_id — product manufacturer ID\n",
    "- shipping_limit_date — latest delivery date for the seller to hand over the order to the logistics partner\n",
    "- price — price per item\n",
    "- freight_value — freight weight"
   ]
  },
  {
   "cell_type": "code",
   "execution_count": 5,
   "metadata": {},
   "outputs": [
    {
     "data": {
      "text/html": [
       "<div>\n",
       "<style scoped>\n",
       "    .dataframe tbody tr th:only-of-type {\n",
       "        vertical-align: middle;\n",
       "    }\n",
       "\n",
       "    .dataframe tbody tr th {\n",
       "        vertical-align: top;\n",
       "    }\n",
       "\n",
       "    .dataframe thead th {\n",
       "        text-align: right;\n",
       "    }\n",
       "</style>\n",
       "<table border=\"1\" class=\"dataframe\">\n",
       "  <thead>\n",
       "    <tr style=\"text-align: right;\">\n",
       "      <th></th>\n",
       "      <th>order_id</th>\n",
       "      <th>order_item_id</th>\n",
       "      <th>product_id</th>\n",
       "      <th>seller_id</th>\n",
       "      <th>shipping_limit_date</th>\n",
       "      <th>price</th>\n",
       "      <th>freight_value</th>\n",
       "    </tr>\n",
       "  </thead>\n",
       "  <tbody>\n",
       "    <tr>\n",
       "      <th>0</th>\n",
       "      <td>00010242fe8c5a6d1ba2dd792cb16214</td>\n",
       "      <td>1</td>\n",
       "      <td>4244733e06e7ecb4970a6e2683c13e61</td>\n",
       "      <td>48436dade18ac8b2bce089ec2a041202</td>\n",
       "      <td>2017-09-19 09:45:35</td>\n",
       "      <td>58.90</td>\n",
       "      <td>13.29</td>\n",
       "    </tr>\n",
       "    <tr>\n",
       "      <th>1</th>\n",
       "      <td>00018f77f2f0320c557190d7a144bdd3</td>\n",
       "      <td>1</td>\n",
       "      <td>e5f2d52b802189ee658865ca93d83a8f</td>\n",
       "      <td>dd7ddc04e1b6c2c614352b383efe2d36</td>\n",
       "      <td>2017-05-03 11:05:13</td>\n",
       "      <td>239.90</td>\n",
       "      <td>19.93</td>\n",
       "    </tr>\n",
       "    <tr>\n",
       "      <th>2</th>\n",
       "      <td>000229ec398224ef6ca0657da4fc703e</td>\n",
       "      <td>1</td>\n",
       "      <td>c777355d18b72b67abbeef9df44fd0fd</td>\n",
       "      <td>5b51032eddd242adc84c38acab88f23d</td>\n",
       "      <td>2018-01-18 14:48:30</td>\n",
       "      <td>199.00</td>\n",
       "      <td>17.87</td>\n",
       "    </tr>\n",
       "    <tr>\n",
       "      <th>3</th>\n",
       "      <td>00024acbcdf0a6daa1e931b038114c75</td>\n",
       "      <td>1</td>\n",
       "      <td>7634da152a4610f1595efa32f14722fc</td>\n",
       "      <td>9d7a1d34a5052409006425275ba1c2b4</td>\n",
       "      <td>2018-08-15 10:10:18</td>\n",
       "      <td>12.99</td>\n",
       "      <td>12.79</td>\n",
       "    </tr>\n",
       "    <tr>\n",
       "      <th>4</th>\n",
       "      <td>00042b26cf59d7ce69dfabb4e55b4fd9</td>\n",
       "      <td>1</td>\n",
       "      <td>ac6c3623068f30de03045865e4e10089</td>\n",
       "      <td>df560393f3a51e74553ab94004ba5c87</td>\n",
       "      <td>2017-02-13 13:57:51</td>\n",
       "      <td>199.90</td>\n",
       "      <td>18.14</td>\n",
       "    </tr>\n",
       "  </tbody>\n",
       "</table>\n",
       "</div>"
      ],
      "text/plain": [
       "                           order_id  order_item_id  \\\n",
       "0  00010242fe8c5a6d1ba2dd792cb16214              1   \n",
       "1  00018f77f2f0320c557190d7a144bdd3              1   \n",
       "2  000229ec398224ef6ca0657da4fc703e              1   \n",
       "3  00024acbcdf0a6daa1e931b038114c75              1   \n",
       "4  00042b26cf59d7ce69dfabb4e55b4fd9              1   \n",
       "\n",
       "                         product_id                         seller_id  \\\n",
       "0  4244733e06e7ecb4970a6e2683c13e61  48436dade18ac8b2bce089ec2a041202   \n",
       "1  e5f2d52b802189ee658865ca93d83a8f  dd7ddc04e1b6c2c614352b383efe2d36   \n",
       "2  c777355d18b72b67abbeef9df44fd0fd  5b51032eddd242adc84c38acab88f23d   \n",
       "3  7634da152a4610f1595efa32f14722fc  9d7a1d34a5052409006425275ba1c2b4   \n",
       "4  ac6c3623068f30de03045865e4e10089  df560393f3a51e74553ab94004ba5c87   \n",
       "\n",
       "   shipping_limit_date   price  freight_value  \n",
       "0  2017-09-19 09:45:35   58.90          13.29  \n",
       "1  2017-05-03 11:05:13  239.90          19.93  \n",
       "2  2018-01-18 14:48:30  199.00          17.87  \n",
       "3  2018-08-15 10:10:18   12.99          12.79  \n",
       "4  2017-02-13 13:57:51  199.90          18.14  "
      ]
     },
     "execution_count": 5,
     "metadata": {},
     "output_type": "execute_result"
    }
   ],
   "source": [
    "df_items.head()"
   ]
  },
  {
   "cell_type": "code",
   "execution_count": 6,
   "metadata": {},
   "outputs": [
    {
     "data": {
      "text/html": [
       "<div>\n",
       "<style scoped>\n",
       "    .dataframe tbody tr th:only-of-type {\n",
       "        vertical-align: middle;\n",
       "    }\n",
       "\n",
       "    .dataframe tbody tr th {\n",
       "        vertical-align: top;\n",
       "    }\n",
       "\n",
       "    .dataframe thead th {\n",
       "        text-align: right;\n",
       "    }\n",
       "</style>\n",
       "<table border=\"1\" class=\"dataframe\">\n",
       "  <thead>\n",
       "    <tr style=\"text-align: right;\">\n",
       "      <th></th>\n",
       "      <th>order_id</th>\n",
       "      <th>customer_id</th>\n",
       "      <th>order_status</th>\n",
       "      <th>order_purchase_timestamp</th>\n",
       "      <th>order_approved_at</th>\n",
       "      <th>order_delivered_carrier_date</th>\n",
       "      <th>order_delivered_customer_date</th>\n",
       "      <th>order_estimated_delivery_date</th>\n",
       "    </tr>\n",
       "  </thead>\n",
       "  <tbody>\n",
       "    <tr>\n",
       "      <th>count</th>\n",
       "      <td>99441</td>\n",
       "      <td>99441</td>\n",
       "      <td>99441</td>\n",
       "      <td>99441</td>\n",
       "      <td>99281</td>\n",
       "      <td>97658</td>\n",
       "      <td>96476</td>\n",
       "      <td>99441</td>\n",
       "    </tr>\n",
       "    <tr>\n",
       "      <th>unique</th>\n",
       "      <td>99441</td>\n",
       "      <td>99441</td>\n",
       "      <td>8</td>\n",
       "      <td>98875</td>\n",
       "      <td>90733</td>\n",
       "      <td>81018</td>\n",
       "      <td>95664</td>\n",
       "      <td>459</td>\n",
       "    </tr>\n",
       "    <tr>\n",
       "      <th>top</th>\n",
       "      <td>cb926a5abfd9b91198cb1bfaea0f4fb9</td>\n",
       "      <td>5dafa7c6ef92319d160eaf859fda0aa6</td>\n",
       "      <td>delivered</td>\n",
       "      <td>2018-02-19 15:37:47</td>\n",
       "      <td>2018-02-27 04:31:10</td>\n",
       "      <td>2018-05-09 15:48:00</td>\n",
       "      <td>2018-05-08 19:36:48</td>\n",
       "      <td>2017-12-20 00:00:00</td>\n",
       "    </tr>\n",
       "    <tr>\n",
       "      <th>freq</th>\n",
       "      <td>1</td>\n",
       "      <td>1</td>\n",
       "      <td>96478</td>\n",
       "      <td>3</td>\n",
       "      <td>9</td>\n",
       "      <td>47</td>\n",
       "      <td>3</td>\n",
       "      <td>522</td>\n",
       "    </tr>\n",
       "  </tbody>\n",
       "</table>\n",
       "</div>"
      ],
      "text/plain": [
       "                                order_id                       customer_id  \\\n",
       "count                              99441                             99441   \n",
       "unique                             99441                             99441   \n",
       "top     cb926a5abfd9b91198cb1bfaea0f4fb9  5dafa7c6ef92319d160eaf859fda0aa6   \n",
       "freq                                   1                                 1   \n",
       "\n",
       "       order_status order_purchase_timestamp    order_approved_at  \\\n",
       "count         99441                    99441                99281   \n",
       "unique            8                    98875                90733   \n",
       "top       delivered      2018-02-19 15:37:47  2018-02-27 04:31:10   \n",
       "freq          96478                        3                    9   \n",
       "\n",
       "       order_delivered_carrier_date order_delivered_customer_date  \\\n",
       "count                         97658                         96476   \n",
       "unique                        81018                         95664   \n",
       "top             2018-05-09 15:48:00           2018-05-08 19:36:48   \n",
       "freq                             47                             3   \n",
       "\n",
       "       order_estimated_delivery_date  \n",
       "count                          99441  \n",
       "unique                           459  \n",
       "top              2017-12-20 00:00:00  \n",
       "freq                             522  "
      ]
     },
     "execution_count": 6,
     "metadata": {},
     "output_type": "execute_result"
    }
   ],
   "source": [
    "df_orders.describe(include='all')"
   ]
  },
  {
   "cell_type": "code",
   "execution_count": 7,
   "metadata": {},
   "outputs": [
    {
     "data": {
      "text/html": [
       "<div>\n",
       "<style scoped>\n",
       "    .dataframe tbody tr th:only-of-type {\n",
       "        vertical-align: middle;\n",
       "    }\n",
       "\n",
       "    .dataframe tbody tr th {\n",
       "        vertical-align: top;\n",
       "    }\n",
       "\n",
       "    .dataframe thead th {\n",
       "        text-align: right;\n",
       "    }\n",
       "</style>\n",
       "<table border=\"1\" class=\"dataframe\">\n",
       "  <thead>\n",
       "    <tr style=\"text-align: right;\">\n",
       "      <th></th>\n",
       "      <th>order_id</th>\n",
       "      <th>order_item_id</th>\n",
       "      <th>product_id</th>\n",
       "      <th>seller_id</th>\n",
       "      <th>shipping_limit_date</th>\n",
       "      <th>price</th>\n",
       "      <th>freight_value</th>\n",
       "    </tr>\n",
       "  </thead>\n",
       "  <tbody>\n",
       "    <tr>\n",
       "      <th>count</th>\n",
       "      <td>112650</td>\n",
       "      <td>112650.000000</td>\n",
       "      <td>112650</td>\n",
       "      <td>112650</td>\n",
       "      <td>112650</td>\n",
       "      <td>112650.000000</td>\n",
       "      <td>112650.000000</td>\n",
       "    </tr>\n",
       "    <tr>\n",
       "      <th>unique</th>\n",
       "      <td>98666</td>\n",
       "      <td>NaN</td>\n",
       "      <td>32951</td>\n",
       "      <td>3095</td>\n",
       "      <td>93318</td>\n",
       "      <td>NaN</td>\n",
       "      <td>NaN</td>\n",
       "    </tr>\n",
       "    <tr>\n",
       "      <th>top</th>\n",
       "      <td>8272b63d03f5f79c56e9e4120aec44ef</td>\n",
       "      <td>NaN</td>\n",
       "      <td>aca2eb7d00ea1a7b8ebd4e68314663af</td>\n",
       "      <td>6560211a19b47992c3666cc44a7e94c0</td>\n",
       "      <td>2017-07-21 18:25:23</td>\n",
       "      <td>NaN</td>\n",
       "      <td>NaN</td>\n",
       "    </tr>\n",
       "    <tr>\n",
       "      <th>freq</th>\n",
       "      <td>21</td>\n",
       "      <td>NaN</td>\n",
       "      <td>527</td>\n",
       "      <td>2033</td>\n",
       "      <td>21</td>\n",
       "      <td>NaN</td>\n",
       "      <td>NaN</td>\n",
       "    </tr>\n",
       "    <tr>\n",
       "      <th>mean</th>\n",
       "      <td>NaN</td>\n",
       "      <td>1.197834</td>\n",
       "      <td>NaN</td>\n",
       "      <td>NaN</td>\n",
       "      <td>NaN</td>\n",
       "      <td>120.653739</td>\n",
       "      <td>19.990320</td>\n",
       "    </tr>\n",
       "    <tr>\n",
       "      <th>std</th>\n",
       "      <td>NaN</td>\n",
       "      <td>0.705124</td>\n",
       "      <td>NaN</td>\n",
       "      <td>NaN</td>\n",
       "      <td>NaN</td>\n",
       "      <td>183.633928</td>\n",
       "      <td>15.806405</td>\n",
       "    </tr>\n",
       "    <tr>\n",
       "      <th>min</th>\n",
       "      <td>NaN</td>\n",
       "      <td>1.000000</td>\n",
       "      <td>NaN</td>\n",
       "      <td>NaN</td>\n",
       "      <td>NaN</td>\n",
       "      <td>0.850000</td>\n",
       "      <td>0.000000</td>\n",
       "    </tr>\n",
       "    <tr>\n",
       "      <th>25%</th>\n",
       "      <td>NaN</td>\n",
       "      <td>1.000000</td>\n",
       "      <td>NaN</td>\n",
       "      <td>NaN</td>\n",
       "      <td>NaN</td>\n",
       "      <td>39.900000</td>\n",
       "      <td>13.080000</td>\n",
       "    </tr>\n",
       "    <tr>\n",
       "      <th>50%</th>\n",
       "      <td>NaN</td>\n",
       "      <td>1.000000</td>\n",
       "      <td>NaN</td>\n",
       "      <td>NaN</td>\n",
       "      <td>NaN</td>\n",
       "      <td>74.990000</td>\n",
       "      <td>16.260000</td>\n",
       "    </tr>\n",
       "    <tr>\n",
       "      <th>75%</th>\n",
       "      <td>NaN</td>\n",
       "      <td>1.000000</td>\n",
       "      <td>NaN</td>\n",
       "      <td>NaN</td>\n",
       "      <td>NaN</td>\n",
       "      <td>134.900000</td>\n",
       "      <td>21.150000</td>\n",
       "    </tr>\n",
       "    <tr>\n",
       "      <th>max</th>\n",
       "      <td>NaN</td>\n",
       "      <td>21.000000</td>\n",
       "      <td>NaN</td>\n",
       "      <td>NaN</td>\n",
       "      <td>NaN</td>\n",
       "      <td>6735.000000</td>\n",
       "      <td>409.680000</td>\n",
       "    </tr>\n",
       "  </tbody>\n",
       "</table>\n",
       "</div>"
      ],
      "text/plain": [
       "                                order_id  order_item_id  \\\n",
       "count                             112650  112650.000000   \n",
       "unique                             98666            NaN   \n",
       "top     8272b63d03f5f79c56e9e4120aec44ef            NaN   \n",
       "freq                                  21            NaN   \n",
       "mean                                 NaN       1.197834   \n",
       "std                                  NaN       0.705124   \n",
       "min                                  NaN       1.000000   \n",
       "25%                                  NaN       1.000000   \n",
       "50%                                  NaN       1.000000   \n",
       "75%                                  NaN       1.000000   \n",
       "max                                  NaN      21.000000   \n",
       "\n",
       "                              product_id                         seller_id  \\\n",
       "count                             112650                            112650   \n",
       "unique                             32951                              3095   \n",
       "top     aca2eb7d00ea1a7b8ebd4e68314663af  6560211a19b47992c3666cc44a7e94c0   \n",
       "freq                                 527                              2033   \n",
       "mean                                 NaN                               NaN   \n",
       "std                                  NaN                               NaN   \n",
       "min                                  NaN                               NaN   \n",
       "25%                                  NaN                               NaN   \n",
       "50%                                  NaN                               NaN   \n",
       "75%                                  NaN                               NaN   \n",
       "max                                  NaN                               NaN   \n",
       "\n",
       "        shipping_limit_date          price  freight_value  \n",
       "count                112650  112650.000000  112650.000000  \n",
       "unique                93318            NaN            NaN  \n",
       "top     2017-07-21 18:25:23            NaN            NaN  \n",
       "freq                     21            NaN            NaN  \n",
       "mean                    NaN     120.653739      19.990320  \n",
       "std                     NaN     183.633928      15.806405  \n",
       "min                     NaN       0.850000       0.000000  \n",
       "25%                     NaN      39.900000      13.080000  \n",
       "50%                     NaN      74.990000      16.260000  \n",
       "75%                     NaN     134.900000      21.150000  \n",
       "max                     NaN    6735.000000     409.680000  "
      ]
     },
     "execution_count": 7,
     "metadata": {},
     "output_type": "execute_result"
    }
   ],
   "source": [
    "df_items.describe(include='all')\n"
   ]
  },
  {
   "cell_type": "code",
   "execution_count": 8,
   "metadata": {},
   "outputs": [
    {
     "data": {
      "text/plain": [
       "(99441, 8)"
      ]
     },
     "execution_count": 8,
     "metadata": {},
     "output_type": "execute_result"
    }
   ],
   "source": [
    "df_orders.shape"
   ]
  },
  {
   "cell_type": "code",
   "execution_count": 9,
   "metadata": {},
   "outputs": [
    {
     "data": {
      "text/plain": [
       "order_id                            0\n",
       "customer_id                         0\n",
       "order_status                        0\n",
       "order_purchase_timestamp            0\n",
       "order_approved_at                 160\n",
       "order_delivered_carrier_date     1783\n",
       "order_delivered_customer_date    2965\n",
       "order_estimated_delivery_date       0\n",
       "dtype: int64"
      ]
     },
     "execution_count": 9,
     "metadata": {},
     "output_type": "execute_result"
    }
   ],
   "source": [
    "df_orders.isnull().sum()"
   ]
  },
  {
   "cell_type": "code",
   "execution_count": 10,
   "metadata": {},
   "outputs": [
    {
     "data": {
      "text/plain": [
       "order_id                         0\n",
       "customer_id                      0\n",
       "order_status                     0\n",
       "order_purchase_timestamp         0\n",
       "order_approved_at                0\n",
       "order_delivered_carrier_date     2\n",
       "order_delivered_customer_date    2\n",
       "order_estimated_delivery_date    0\n",
       "dtype: int64"
      ]
     },
     "execution_count": 10,
     "metadata": {},
     "output_type": "execute_result"
    }
   ],
   "source": [
    "# Checking the number of null values in the \"approved\" status.\n",
    "df_orders.query( 'order_status == \"approved\"').isna().sum()"
   ]
  },
  {
   "cell_type": "code",
   "execution_count": 11,
   "metadata": {},
   "outputs": [
    {
     "data": {
      "text/plain": [
       "order_id                           0\n",
       "customer_id                        0\n",
       "order_status                       0\n",
       "order_purchase_timestamp           0\n",
       "order_approved_at                  0\n",
       "order_delivered_carrier_date     314\n",
       "order_delivered_customer_date    314\n",
       "order_estimated_delivery_date      0\n",
       "dtype: int64"
      ]
     },
     "execution_count": 11,
     "metadata": {},
     "output_type": "execute_result"
    }
   ],
   "source": [
    "# Checking the number of null values in the \"invoiced\" status.\n",
    "df_orders.query( 'order_status == \"invoiced\"').isna().sum()"
   ]
  },
  {
   "cell_type": "code",
   "execution_count": 12,
   "metadata": {},
   "outputs": [
    {
     "data": {
      "text/plain": [
       "order_id                            0\n",
       "customer_id                         0\n",
       "order_status                        0\n",
       "order_purchase_timestamp            0\n",
       "order_approved_at                   0\n",
       "order_delivered_carrier_date        0\n",
       "order_delivered_customer_date    1107\n",
       "order_estimated_delivery_date       0\n",
       "dtype: int64"
      ]
     },
     "execution_count": 12,
     "metadata": {},
     "output_type": "execute_result"
    }
   ],
   "source": [
    "# Checking the number of null values in the \"shipped\" status.\n",
    "df_orders.query( 'order_status == \"shipped\"').isna().sum()"
   ]
  },
  {
   "cell_type": "code",
   "execution_count": 13,
   "metadata": {},
   "outputs": [
    {
     "data": {
      "text/plain": [
       "order_id                           0\n",
       "customer_id                        0\n",
       "order_status                       0\n",
       "order_purchase_timestamp           0\n",
       "order_approved_at                  0\n",
       "order_delivered_carrier_date     301\n",
       "order_delivered_customer_date    301\n",
       "order_estimated_delivery_date      0\n",
       "dtype: int64"
      ]
     },
     "execution_count": 13,
     "metadata": {},
     "output_type": "execute_result"
    }
   ],
   "source": [
    "# Checking the number of null values in the \"processing\" status.\n",
    "df_orders.query( 'order_status == \"processing\"').isna().sum()"
   ]
  },
  {
   "cell_type": "code",
   "execution_count": 14,
   "metadata": {},
   "outputs": [
    {
     "data": {
      "text/plain": [
       "order_id                          0\n",
       "customer_id                       0\n",
       "order_status                      0\n",
       "order_purchase_timestamp          0\n",
       "order_approved_at                14\n",
       "order_delivered_carrier_date      2\n",
       "order_delivered_customer_date     8\n",
       "order_estimated_delivery_date     0\n",
       "dtype: int64"
      ]
     },
     "execution_count": 14,
     "metadata": {},
     "output_type": "execute_result"
    }
   ],
   "source": [
    "# Checking the number of null values in the \"delivered\" status.\n",
    "df_orders.query( 'order_status == \"delivered\"').isna().sum()"
   ]
  },
  {
   "cell_type": "code",
   "execution_count": 15,
   "metadata": {},
   "outputs": [
    {
     "data": {
      "text/plain": [
       "order_id                           0\n",
       "customer_id                        0\n",
       "order_status                       0\n",
       "order_purchase_timestamp           0\n",
       "order_approved_at                  0\n",
       "order_delivered_carrier_date     609\n",
       "order_delivered_customer_date    609\n",
       "order_estimated_delivery_date      0\n",
       "dtype: int64"
      ]
     },
     "execution_count": 15,
     "metadata": {},
     "output_type": "execute_result"
    }
   ],
   "source": [
    "# Checking the number of null values in the \"unavailable\" status.\n",
    "df_orders.query( 'order_status == \"unavailable\"').isna().sum()"
   ]
  },
  {
   "cell_type": "code",
   "execution_count": 16,
   "metadata": {},
   "outputs": [
    {
     "data": {
      "text/plain": [
       "order_id    609\n",
       "dtype: int64"
      ]
     },
     "execution_count": 16,
     "metadata": {},
     "output_type": "execute_result"
    }
   ],
   "source": [
    "df_orders.query( 'order_status == \"unavailable\"').agg({'order_id':'count'})\n"
   ]
  },
  {
   "cell_type": "code",
   "execution_count": 17,
   "metadata": {},
   "outputs": [
    {
     "data": {
      "text/html": [
       "<div>\n",
       "<style scoped>\n",
       "    .dataframe tbody tr th:only-of-type {\n",
       "        vertical-align: middle;\n",
       "    }\n",
       "\n",
       "    .dataframe tbody tr th {\n",
       "        vertical-align: top;\n",
       "    }\n",
       "\n",
       "    .dataframe thead th {\n",
       "        text-align: right;\n",
       "    }\n",
       "</style>\n",
       "<table border=\"1\" class=\"dataframe\">\n",
       "  <thead>\n",
       "    <tr style=\"text-align: right;\">\n",
       "      <th></th>\n",
       "      <th>order_status</th>\n",
       "      <th>order_id</th>\n",
       "    </tr>\n",
       "  </thead>\n",
       "  <tbody>\n",
       "    <tr>\n",
       "      <th>0</th>\n",
       "      <td>approved</td>\n",
       "      <td>2</td>\n",
       "    </tr>\n",
       "    <tr>\n",
       "      <th>1</th>\n",
       "      <td>canceled</td>\n",
       "      <td>625</td>\n",
       "    </tr>\n",
       "    <tr>\n",
       "      <th>2</th>\n",
       "      <td>created</td>\n",
       "      <td>5</td>\n",
       "    </tr>\n",
       "    <tr>\n",
       "      <th>3</th>\n",
       "      <td>delivered</td>\n",
       "      <td>96478</td>\n",
       "    </tr>\n",
       "    <tr>\n",
       "      <th>4</th>\n",
       "      <td>invoiced</td>\n",
       "      <td>314</td>\n",
       "    </tr>\n",
       "    <tr>\n",
       "      <th>5</th>\n",
       "      <td>processing</td>\n",
       "      <td>301</td>\n",
       "    </tr>\n",
       "    <tr>\n",
       "      <th>6</th>\n",
       "      <td>shipped</td>\n",
       "      <td>1107</td>\n",
       "    </tr>\n",
       "    <tr>\n",
       "      <th>7</th>\n",
       "      <td>unavailable</td>\n",
       "      <td>609</td>\n",
       "    </tr>\n",
       "  </tbody>\n",
       "</table>\n",
       "</div>"
      ],
      "text/plain": [
       "  order_status  order_id\n",
       "0     approved         2\n",
       "1     canceled       625\n",
       "2      created         5\n",
       "3    delivered     96478\n",
       "4     invoiced       314\n",
       "5   processing       301\n",
       "6      shipped      1107\n",
       "7  unavailable       609"
      ]
     },
     "execution_count": 17,
     "metadata": {},
     "output_type": "execute_result"
    }
   ],
   "source": [
    "# Checking the number of orders in different statuses.\n",
    "df_orders.groupby('order_status', as_index= False)\\\n",
    "    .agg({'order_id':'count'})"
   ]
  },
  {
   "cell_type": "code",
   "execution_count": 18,
   "metadata": {},
   "outputs": [
    {
     "data": {
      "text/plain": [
       "order_id                object\n",
       "order_item_id            int64\n",
       "product_id              object\n",
       "seller_id               object\n",
       "shipping_limit_date     object\n",
       "price                  float64\n",
       "freight_value          float64\n",
       "dtype: object"
      ]
     },
     "execution_count": 18,
     "metadata": {},
     "output_type": "execute_result"
    }
   ],
   "source": [
    "df_items.dtypes"
   ]
  },
  {
   "cell_type": "code",
   "execution_count": 19,
   "metadata": {},
   "outputs": [
    {
     "data": {
      "text/plain": [
       "order_id                         object\n",
       "customer_id                      object\n",
       "order_status                     object\n",
       "order_purchase_timestamp         object\n",
       "order_approved_at                object\n",
       "order_delivered_carrier_date     object\n",
       "order_delivered_customer_date    object\n",
       "order_estimated_delivery_date    object\n",
       "dtype: object"
      ]
     },
     "execution_count": 19,
     "metadata": {},
     "output_type": "execute_result"
    }
   ],
   "source": [
    "df_orders.dtypes"
   ]
  },
  {
   "cell_type": "code",
   "execution_count": 20,
   "metadata": {},
   "outputs": [],
   "source": [
    "# Converting fields with dates to 'datetime64' format.\n",
    "df_orders['order_approved_at'] = pd.to_datetime(df_orders.order_approved_at, dayfirst=True)\n",
    "df_orders['order_delivered_carrier_date'] = pd.to_datetime(df_orders.order_delivered_carrier_date, dayfirst=True)\n",
    "df_orders['order_delivered_customer_date'] = pd.to_datetime(df_orders.order_delivered_customer_date, dayfirst=True)\n",
    "df_orders['order_estimated_delivery_date'] = pd.to_datetime(df_orders.order_estimated_delivery_date, dayfirst=True)\n",
    "df_orders['order_purchase_timestamp'] = pd.to_datetime(df_orders.order_purchase_timestamp, dayfirst=True)\n",
    "df_items['shipping_limit_date'] = pd.to_datetime(df_items.shipping_limit_date, dayfirst=True)"
   ]
  },
  {
   "cell_type": "code",
   "execution_count": 21,
   "metadata": {},
   "outputs": [
    {
     "data": {
      "text/html": [
       "<div>\n",
       "<style scoped>\n",
       "    .dataframe tbody tr th:only-of-type {\n",
       "        vertical-align: middle;\n",
       "    }\n",
       "\n",
       "    .dataframe tbody tr th {\n",
       "        vertical-align: top;\n",
       "    }\n",
       "\n",
       "    .dataframe thead th {\n",
       "        text-align: right;\n",
       "    }\n",
       "</style>\n",
       "<table border=\"1\" class=\"dataframe\">\n",
       "  <thead>\n",
       "    <tr style=\"text-align: right;\">\n",
       "      <th></th>\n",
       "      <th>customer_id</th>\n",
       "      <th>customer_unique_id</th>\n",
       "      <th>customer_zip_code_prefix</th>\n",
       "      <th>customer_city</th>\n",
       "      <th>customer_state</th>\n",
       "    </tr>\n",
       "  </thead>\n",
       "  <tbody>\n",
       "    <tr>\n",
       "      <th>count</th>\n",
       "      <td>99441</td>\n",
       "      <td>99441</td>\n",
       "      <td>99441.000000</td>\n",
       "      <td>99441</td>\n",
       "      <td>99441</td>\n",
       "    </tr>\n",
       "    <tr>\n",
       "      <th>unique</th>\n",
       "      <td>99441</td>\n",
       "      <td>96096</td>\n",
       "      <td>NaN</td>\n",
       "      <td>4119</td>\n",
       "      <td>27</td>\n",
       "    </tr>\n",
       "    <tr>\n",
       "      <th>top</th>\n",
       "      <td>5dafa7c6ef92319d160eaf859fda0aa6</td>\n",
       "      <td>8d50f5eadf50201ccdcedfb9e2ac8455</td>\n",
       "      <td>NaN</td>\n",
       "      <td>sao paulo</td>\n",
       "      <td>SP</td>\n",
       "    </tr>\n",
       "    <tr>\n",
       "      <th>freq</th>\n",
       "      <td>1</td>\n",
       "      <td>17</td>\n",
       "      <td>NaN</td>\n",
       "      <td>15540</td>\n",
       "      <td>41746</td>\n",
       "    </tr>\n",
       "    <tr>\n",
       "      <th>mean</th>\n",
       "      <td>NaN</td>\n",
       "      <td>NaN</td>\n",
       "      <td>35137.474583</td>\n",
       "      <td>NaN</td>\n",
       "      <td>NaN</td>\n",
       "    </tr>\n",
       "    <tr>\n",
       "      <th>std</th>\n",
       "      <td>NaN</td>\n",
       "      <td>NaN</td>\n",
       "      <td>29797.938996</td>\n",
       "      <td>NaN</td>\n",
       "      <td>NaN</td>\n",
       "    </tr>\n",
       "    <tr>\n",
       "      <th>min</th>\n",
       "      <td>NaN</td>\n",
       "      <td>NaN</td>\n",
       "      <td>1003.000000</td>\n",
       "      <td>NaN</td>\n",
       "      <td>NaN</td>\n",
       "    </tr>\n",
       "    <tr>\n",
       "      <th>25%</th>\n",
       "      <td>NaN</td>\n",
       "      <td>NaN</td>\n",
       "      <td>11347.000000</td>\n",
       "      <td>NaN</td>\n",
       "      <td>NaN</td>\n",
       "    </tr>\n",
       "    <tr>\n",
       "      <th>50%</th>\n",
       "      <td>NaN</td>\n",
       "      <td>NaN</td>\n",
       "      <td>24416.000000</td>\n",
       "      <td>NaN</td>\n",
       "      <td>NaN</td>\n",
       "    </tr>\n",
       "    <tr>\n",
       "      <th>75%</th>\n",
       "      <td>NaN</td>\n",
       "      <td>NaN</td>\n",
       "      <td>58900.000000</td>\n",
       "      <td>NaN</td>\n",
       "      <td>NaN</td>\n",
       "    </tr>\n",
       "    <tr>\n",
       "      <th>max</th>\n",
       "      <td>NaN</td>\n",
       "      <td>NaN</td>\n",
       "      <td>99990.000000</td>\n",
       "      <td>NaN</td>\n",
       "      <td>NaN</td>\n",
       "    </tr>\n",
       "  </tbody>\n",
       "</table>\n",
       "</div>"
      ],
      "text/plain": [
       "                             customer_id                customer_unique_id  \\\n",
       "count                              99441                             99441   \n",
       "unique                             99441                             96096   \n",
       "top     5dafa7c6ef92319d160eaf859fda0aa6  8d50f5eadf50201ccdcedfb9e2ac8455   \n",
       "freq                                   1                                17   \n",
       "mean                                 NaN                               NaN   \n",
       "std                                  NaN                               NaN   \n",
       "min                                  NaN                               NaN   \n",
       "25%                                  NaN                               NaN   \n",
       "50%                                  NaN                               NaN   \n",
       "75%                                  NaN                               NaN   \n",
       "max                                  NaN                               NaN   \n",
       "\n",
       "        customer_zip_code_prefix customer_city customer_state  \n",
       "count               99441.000000         99441          99441  \n",
       "unique                       NaN          4119             27  \n",
       "top                          NaN     sao paulo             SP  \n",
       "freq                         NaN         15540          41746  \n",
       "mean                35137.474583           NaN            NaN  \n",
       "std                 29797.938996           NaN            NaN  \n",
       "min                  1003.000000           NaN            NaN  \n",
       "25%                 11347.000000           NaN            NaN  \n",
       "50%                 24416.000000           NaN            NaN  \n",
       "75%                 58900.000000           NaN            NaN  \n",
       "max                 99990.000000           NaN            NaN  "
      ]
     },
     "execution_count": 21,
     "metadata": {},
     "output_type": "execute_result"
    }
   ],
   "source": [
    "df_customers.describe(include='all')\n"
   ]
  },
  {
   "cell_type": "markdown",
   "metadata": {},
   "source": [
    "It has been discovered that there are 99441 unique values in the customer_id field, and 96096 unique values in the customer_unique_id field."
   ]
  },
  {
   "cell_type": "code",
   "execution_count": 22,
   "metadata": {},
   "outputs": [
    {
     "data": {
      "text/plain": [
       "3345"
      ]
     },
     "execution_count": 22,
     "metadata": {},
     "output_type": "execute_result"
    }
   ],
   "source": [
    "# Checking for duplicates in the customer_unique_id field in the df_customers table.\n",
    "df_customers.customer_unique_id.duplicated().sum() # 3345\n"
   ]
  },
  {
   "cell_type": "code",
   "execution_count": 23,
   "metadata": {},
   "outputs": [
    {
     "data": {
      "text/plain": [
       "0"
      ]
     },
     "execution_count": 23,
     "metadata": {},
     "output_type": "execute_result"
    }
   ],
   "source": [
    "# Checking for duplicates in the customer_id field in the df_customers table.\n",
    "df_orders.customer_id.duplicated().sum() # 0"
   ]
  },
  {
   "cell_type": "markdown",
   "metadata": {},
   "source": [
    "The database is structured as follows: \n",
    "- customer_id is the unique user ID for table linkage.\n",
    "- customer_unique_id is the sequential user ID (similar to your passport number)."
   ]
  },
  {
   "cell_type": "markdown",
   "metadata": {},
   "source": [
    "Top 5 users by the number of orders."
   ]
  },
  {
   "cell_type": "code",
   "execution_count": 24,
   "metadata": {},
   "outputs": [
    {
     "data": {
      "text/html": [
       "<div>\n",
       "<style scoped>\n",
       "    .dataframe tbody tr th:only-of-type {\n",
       "        vertical-align: middle;\n",
       "    }\n",
       "\n",
       "    .dataframe tbody tr th {\n",
       "        vertical-align: top;\n",
       "    }\n",
       "\n",
       "    .dataframe thead th {\n",
       "        text-align: right;\n",
       "    }\n",
       "</style>\n",
       "<table border=\"1\" class=\"dataframe\">\n",
       "  <thead>\n",
       "    <tr style=\"text-align: right;\">\n",
       "      <th></th>\n",
       "      <th>order_id</th>\n",
       "      <th>customer_id</th>\n",
       "      <th>order_status</th>\n",
       "      <th>order_purchase_timestamp</th>\n",
       "      <th>order_approved_at</th>\n",
       "      <th>order_delivered_carrier_date</th>\n",
       "      <th>order_delivered_customer_date</th>\n",
       "      <th>order_estimated_delivery_date</th>\n",
       "      <th>customer_unique_id</th>\n",
       "      <th>customer_zip_code_prefix</th>\n",
       "      <th>customer_city</th>\n",
       "      <th>customer_state</th>\n",
       "    </tr>\n",
       "  </thead>\n",
       "  <tbody>\n",
       "    <tr>\n",
       "      <th>0</th>\n",
       "      <td>e481f51cbdc54678b7cc49136f2d6af7</td>\n",
       "      <td>9ef432eb6251297304e76186b10a928d</td>\n",
       "      <td>delivered</td>\n",
       "      <td>2017-10-02 10:56:33</td>\n",
       "      <td>2017-10-02 11:07:15</td>\n",
       "      <td>2017-10-04 19:55:00</td>\n",
       "      <td>2017-10-10 21:25:13</td>\n",
       "      <td>2017-10-18</td>\n",
       "      <td>7c396fd4830fd04220f754e42b4e5bff</td>\n",
       "      <td>3149</td>\n",
       "      <td>sao paulo</td>\n",
       "      <td>SP</td>\n",
       "    </tr>\n",
       "    <tr>\n",
       "      <th>1</th>\n",
       "      <td>53cdb2fc8bc7dce0b6741e2150273451</td>\n",
       "      <td>b0830fb4747a6c6d20dea0b8c802d7ef</td>\n",
       "      <td>delivered</td>\n",
       "      <td>2018-07-24 20:41:37</td>\n",
       "      <td>2018-07-26 03:24:27</td>\n",
       "      <td>2018-07-26 14:31:00</td>\n",
       "      <td>2018-08-07 15:27:45</td>\n",
       "      <td>2018-08-13</td>\n",
       "      <td>af07308b275d755c9edb36a90c618231</td>\n",
       "      <td>47813</td>\n",
       "      <td>barreiras</td>\n",
       "      <td>BA</td>\n",
       "    </tr>\n",
       "    <tr>\n",
       "      <th>2</th>\n",
       "      <td>47770eb9100c2d0c44946d9cf07ec65d</td>\n",
       "      <td>41ce2a54c0b03bf3443c3d931a367089</td>\n",
       "      <td>delivered</td>\n",
       "      <td>2018-08-08 08:38:49</td>\n",
       "      <td>2018-08-08 08:55:23</td>\n",
       "      <td>2018-08-08 13:50:00</td>\n",
       "      <td>2018-08-17 18:06:29</td>\n",
       "      <td>2018-09-04</td>\n",
       "      <td>3a653a41f6f9fc3d2a113cf8398680e8</td>\n",
       "      <td>75265</td>\n",
       "      <td>vianopolis</td>\n",
       "      <td>GO</td>\n",
       "    </tr>\n",
       "    <tr>\n",
       "      <th>3</th>\n",
       "      <td>949d5b44dbf5de918fe9c16f97b45f8a</td>\n",
       "      <td>f88197465ea7920adcdbec7375364d82</td>\n",
       "      <td>delivered</td>\n",
       "      <td>2017-11-18 19:28:06</td>\n",
       "      <td>2017-11-18 19:45:59</td>\n",
       "      <td>2017-11-22 13:39:59</td>\n",
       "      <td>2017-12-02 00:28:42</td>\n",
       "      <td>2017-12-15</td>\n",
       "      <td>7c142cf63193a1473d2e66489a9ae977</td>\n",
       "      <td>59296</td>\n",
       "      <td>sao goncalo do amarante</td>\n",
       "      <td>RN</td>\n",
       "    </tr>\n",
       "    <tr>\n",
       "      <th>4</th>\n",
       "      <td>ad21c59c0840e6cb83a9ceb5573f8159</td>\n",
       "      <td>8ab97904e6daea8866dbdbc4fb7aad2c</td>\n",
       "      <td>delivered</td>\n",
       "      <td>2018-02-13 21:18:39</td>\n",
       "      <td>2018-02-13 22:20:29</td>\n",
       "      <td>2018-02-14 19:46:34</td>\n",
       "      <td>2018-02-16 18:17:02</td>\n",
       "      <td>2018-02-26</td>\n",
       "      <td>72632f0f9dd73dfee390c9b22eb56dd6</td>\n",
       "      <td>9195</td>\n",
       "      <td>santo andre</td>\n",
       "      <td>SP</td>\n",
       "    </tr>\n",
       "  </tbody>\n",
       "</table>\n",
       "</div>"
      ],
      "text/plain": [
       "                           order_id                       customer_id  \\\n",
       "0  e481f51cbdc54678b7cc49136f2d6af7  9ef432eb6251297304e76186b10a928d   \n",
       "1  53cdb2fc8bc7dce0b6741e2150273451  b0830fb4747a6c6d20dea0b8c802d7ef   \n",
       "2  47770eb9100c2d0c44946d9cf07ec65d  41ce2a54c0b03bf3443c3d931a367089   \n",
       "3  949d5b44dbf5de918fe9c16f97b45f8a  f88197465ea7920adcdbec7375364d82   \n",
       "4  ad21c59c0840e6cb83a9ceb5573f8159  8ab97904e6daea8866dbdbc4fb7aad2c   \n",
       "\n",
       "  order_status order_purchase_timestamp   order_approved_at  \\\n",
       "0    delivered      2017-10-02 10:56:33 2017-10-02 11:07:15   \n",
       "1    delivered      2018-07-24 20:41:37 2018-07-26 03:24:27   \n",
       "2    delivered      2018-08-08 08:38:49 2018-08-08 08:55:23   \n",
       "3    delivered      2017-11-18 19:28:06 2017-11-18 19:45:59   \n",
       "4    delivered      2018-02-13 21:18:39 2018-02-13 22:20:29   \n",
       "\n",
       "  order_delivered_carrier_date order_delivered_customer_date  \\\n",
       "0          2017-10-04 19:55:00           2017-10-10 21:25:13   \n",
       "1          2018-07-26 14:31:00           2018-08-07 15:27:45   \n",
       "2          2018-08-08 13:50:00           2018-08-17 18:06:29   \n",
       "3          2017-11-22 13:39:59           2017-12-02 00:28:42   \n",
       "4          2018-02-14 19:46:34           2018-02-16 18:17:02   \n",
       "\n",
       "  order_estimated_delivery_date                customer_unique_id  \\\n",
       "0                    2017-10-18  7c396fd4830fd04220f754e42b4e5bff   \n",
       "1                    2018-08-13  af07308b275d755c9edb36a90c618231   \n",
       "2                    2018-09-04  3a653a41f6f9fc3d2a113cf8398680e8   \n",
       "3                    2017-12-15  7c142cf63193a1473d2e66489a9ae977   \n",
       "4                    2018-02-26  72632f0f9dd73dfee390c9b22eb56dd6   \n",
       "\n",
       "   customer_zip_code_prefix            customer_city customer_state  \n",
       "0                      3149                sao paulo             SP  \n",
       "1                     47813                barreiras             BA  \n",
       "2                     75265               vianopolis             GO  \n",
       "3                     59296  sao goncalo do amarante             RN  \n",
       "4                      9195              santo andre             SP  "
      ]
     },
     "execution_count": 24,
     "metadata": {},
     "output_type": "execute_result"
    }
   ],
   "source": [
    "df_orders_customers = df_orders.merge(df_customers, on = 'customer_id')\n",
    "df_orders_customers.head()"
   ]
  },
  {
   "cell_type": "code",
   "execution_count": 25,
   "metadata": {},
   "outputs": [
    {
     "data": {
      "text/html": [
       "<div>\n",
       "<style scoped>\n",
       "    .dataframe tbody tr th:only-of-type {\n",
       "        vertical-align: middle;\n",
       "    }\n",
       "\n",
       "    .dataframe tbody tr th {\n",
       "        vertical-align: top;\n",
       "    }\n",
       "\n",
       "    .dataframe thead th {\n",
       "        text-align: right;\n",
       "    }\n",
       "</style>\n",
       "<table border=\"1\" class=\"dataframe\">\n",
       "  <thead>\n",
       "    <tr style=\"text-align: right;\">\n",
       "      <th></th>\n",
       "      <th>customer_unique_id</th>\n",
       "      <th>order_id</th>\n",
       "    </tr>\n",
       "  </thead>\n",
       "  <tbody>\n",
       "    <tr>\n",
       "      <th>52973</th>\n",
       "      <td>8d50f5eadf50201ccdcedfb9e2ac8455</td>\n",
       "      <td>17</td>\n",
       "    </tr>\n",
       "    <tr>\n",
       "      <th>23472</th>\n",
       "      <td>3e43e6105506432c953e165fb2acf44c</td>\n",
       "      <td>9</td>\n",
       "    </tr>\n",
       "    <tr>\n",
       "      <th>37797</th>\n",
       "      <td>6469f99c1f9dfae7733b25662e7f1782</td>\n",
       "      <td>7</td>\n",
       "    </tr>\n",
       "    <tr>\n",
       "      <th>76082</th>\n",
       "      <td>ca77025e7201e3b30c44b472ff346268</td>\n",
       "      <td>7</td>\n",
       "    </tr>\n",
       "    <tr>\n",
       "      <th>10354</th>\n",
       "      <td>1b6c7548a2a1f9037c1fd3ddfed95f33</td>\n",
       "      <td>7</td>\n",
       "    </tr>\n",
       "  </tbody>\n",
       "</table>\n",
       "</div>"
      ],
      "text/plain": [
       "                     customer_unique_id  order_id\n",
       "52973  8d50f5eadf50201ccdcedfb9e2ac8455        17\n",
       "23472  3e43e6105506432c953e165fb2acf44c         9\n",
       "37797  6469f99c1f9dfae7733b25662e7f1782         7\n",
       "76082  ca77025e7201e3b30c44b472ff346268         7\n",
       "10354  1b6c7548a2a1f9037c1fd3ddfed95f33         7"
      ]
     },
     "execution_count": 25,
     "metadata": {},
     "output_type": "execute_result"
    }
   ],
   "source": [
    "df_orders_customers.groupby('customer_unique_id', as_index = False)\\\n",
    "    .agg({'order_id':'count'})\\\n",
    "    .sort_values('order_id',ascending= False)\\\n",
    "    .head()\n",
    "# Customer 8d50f5eadf50201ccdcedfb9e2ac8455 заказывал больше всего "
   ]
  },
  {
   "cell_type": "code",
   "execution_count": 26,
   "metadata": {},
   "outputs": [
    {
     "ename": "NameError",
     "evalue": "name 'df_orders_items_left' is not defined",
     "output_type": "error",
     "traceback": [
      "\u001b[0;31m---------------------------------------------------------------------------\u001b[0m",
      "\u001b[0;31mNameError\u001b[0m                                 Traceback (most recent call last)",
      "\u001b[0;32m<ipython-input-26-3782d546b0ad>\u001b[0m in \u001b[0;36m<module>\u001b[0;34m\u001b[0m\n\u001b[0;32m----> 1\u001b[0;31m \u001b[0mdf_orders_items_left\u001b[0m\u001b[0;34m.\u001b[0m\u001b[0mquery\u001b[0m\u001b[0;34m(\u001b[0m \u001b[0;34m'order_status == \"delivered\"'\u001b[0m\u001b[0;34m)\u001b[0m\u001b[0;34m.\u001b[0m\u001b[0misna\u001b[0m\u001b[0;34m(\u001b[0m\u001b[0;34m)\u001b[0m\u001b[0;34m.\u001b[0m\u001b[0msum\u001b[0m\u001b[0;34m(\u001b[0m\u001b[0;34m)\u001b[0m\u001b[0;34m\u001b[0m\u001b[0;34m\u001b[0m\u001b[0m\n\u001b[0m",
      "\u001b[0;31mNameError\u001b[0m: name 'df_orders_items_left' is not defined"
     ]
    }
   ],
   "source": [
    "df_orders_items_left.query( 'order_status == \"delivered\"').isna().sum()\n"
   ]
  },
  {
   "cell_type": "code",
   "execution_count": null,
   "metadata": {},
   "outputs": [],
   "source": [
    "df_orders_items = df_orders.merge(df_items,  on = 'order_id')"
   ]
  },
  {
   "cell_type": "code",
   "execution_count": null,
   "metadata": {},
   "outputs": [],
   "source": [
    "df_orders_items.query( 'order_status == \"delivered\" and order_approved_at == \"NaN\"')"
   ]
  },
  {
   "cell_type": "markdown",
   "metadata": {},
   "source": [
    "##### Purchase - an order that is paid for (has a payment confirmation time order_approved_at). \n",
    "However, we have orders that are delivered but have no payment confirmation time (order_approved_at is missing) (15 in total).\n",
    "\n",
    "There could be several reasons:\n",
    "- The item doesn't require payment (e.g., it's a gift).\n",
    "- System errors.\n",
    "\n",
    "Further clarification is needed. For now, I will assume that there was a promotion, and the item was a gift rather than a purchase. Therefore, I will not count these orders as purchases."
   ]
  },
  {
   "cell_type": "markdown",
   "metadata": {},
   "source": [
    "### 1. How many users made a purchase only once?"
   ]
  },
  {
   "cell_type": "code",
   "execution_count": null,
   "metadata": {},
   "outputs": [],
   "source": [
    "# Creating a column \"Paid\" (if there is a payment date, then 1, otherwise 0).\n",
    "df_orders['paid']= np.where(df_orders['order_approved_at'].isnull(), 0,1)"
   ]
  },
  {
   "cell_type": "code",
   "execution_count": null,
   "metadata": {},
   "outputs": [],
   "source": [
    "df_orders.query('paid == 1 & order_status != \"canceled\"').shape"
   ]
  },
  {
   "cell_type": "code",
   "execution_count": null,
   "metadata": {},
   "outputs": [],
   "source": [
    "df_orders_customers = df_orders.merge(df_customers, on = 'customer_id')\n",
    "df_orders_customers.head()"
   ]
  },
  {
   "cell_type": "code",
   "execution_count": null,
   "metadata": {},
   "outputs": [],
   "source": [
    "df_orders_customers.query('paid == 1 & order_status != \"canceled\"')\\\n",
    "    .groupby('customer_unique_id', as_index= False)\\\n",
    "    .agg({'order_id': 'count'})\\\n",
    "    .query('order_id == 1')\\\n",
    "    .agg({'order_id': 'count'})"
   ]
  },
  {
   "cell_type": "markdown",
   "metadata": {},
   "source": [
    "The number of users who made a purchase only once is 92621."
   ]
  },
  {
   "cell_type": "markdown",
   "metadata": {},
   "source": [
    "I used orders from the df_orders table for calculation because this table contains all the order data, unlike the df_items table."
   ]
  },
  {
   "cell_type": "markdown",
   "metadata": {},
   "source": [
    "### 2. On average, how many orders per month are not delivered for various reasons? (Provide a breakdown by reasons)\n"
   ]
  },
  {
   "cell_type": "markdown",
   "metadata": {},
   "source": [
    "Order statuses:\n",
    "- created — created\n",
    "- approved — approved\n",
    "- invoiced — invoiced\n",
    "- processing — processing\n",
    "- shipped — shipped\n",
    "- delivered — delivered\n",
    "- unavailable — unavailable\n",
    "- canceled — canceled\n"
   ]
  },
  {
   "cell_type": "markdown",
   "metadata": {},
   "source": [
    "There are orders marked as delivered but without a delivery date, totaling 8. \n",
    "I will consider these orders as delivered, as there might have been a system error causing the date not to be recorded. \n",
    "Therefore, I will count orders in the \"delivered\" status as delivered."
   ]
  },
  {
   "cell_type": "markdown",
   "metadata": {},
   "source": [
    "List of possible reasons for undelivered orders to identify problematic areas in the business:\n",
    "\n",
    "- Unpaid order: the user did not pay for the order.\n",
    "- Not transferred to the logistics service on time: there was a delay on the store's part.\n",
    "- Error in our system - data loss: create a development task.\n",
    "- Handed over for delivery, but the logistics service did not deliver the order: there was an error on the logistics service's part - consider reviewing new partners.\n",
    "- Order unavailable (in \"unavailable\" status): the item is not available, but there could also be technical issues or errors in order processing.\n",
    "\n"
   ]
  },
  {
   "cell_type": "markdown",
   "metadata": {},
   "source": [
    "#### Calculation of the first reason why the order was not delivered (order not paid by the user)"
   ]
  },
  {
   "cell_type": "code",
   "execution_count": null,
   "metadata": {},
   "outputs": [],
   "source": [
    "df_orders.query('order_status != \"delivered\" and paid == 0 ').shape"
   ]
  },
  {
   "cell_type": "code",
   "execution_count": null,
   "metadata": {},
   "outputs": [],
   "source": [
    "# Displaying unpaid and undelivered orders\n",
    "df_orders.query('order_status != \"delivered\" and paid == 0 ').groupby('order_status').agg({'order_id': 'count'})"
   ]
  },
  {
   "cell_type": "code",
   "execution_count": null,
   "metadata": {},
   "outputs": [],
   "source": [
    "# Displaying created orders that have not been paid\n",
    "df_orders.query('order_status == \"created\" and paid == 0 ')"
   ]
  },
  {
   "cell_type": "markdown",
   "metadata": {},
   "source": [
    "I see that these orders were created relatively long ago and most likely will not be paid for, so I will also take them into account."
   ]
  },
  {
   "cell_type": "code",
   "execution_count": null,
   "metadata": {},
   "outputs": [],
   "source": [
    "# Creating a column 'month_order' (Month and Year of Order Creation)\n",
    "df_orders['month_order']= df_orders.order_purchase_timestamp.dt.strftime('%Y-%m')\n"
   ]
  },
  {
   "cell_type": "code",
   "execution_count": null,
   "metadata": {},
   "outputs": [],
   "source": [
    "not_paid = df_orders.query('order_status != \"delivered\" and paid == 0 ')\\\n",
    "    .groupby('month_order', as_index= False)\\\n",
    "    .size()"
   ]
  },
  {
   "cell_type": "code",
   "execution_count": null,
   "metadata": {},
   "outputs": [],
   "source": [
    "not_paid.head()"
   ]
  },
  {
   "cell_type": "code",
   "execution_count": null,
   "metadata": {},
   "outputs": [],
   "source": [
    "start_date = not_paid['month_order'].min()\n",
    "end_date = not_paid['month_order'].max()\n",
    "date_range = pd.date_range(start=start_date, end=end_date, freq='M')\n"
   ]
  },
  {
   "cell_type": "code",
   "execution_count": null,
   "metadata": {},
   "outputs": [],
   "source": [
    "df_dates = pd.DataFrame(date_range, columns=['month_order'])\n"
   ]
  },
  {
   "cell_type": "code",
   "execution_count": null,
   "metadata": {},
   "outputs": [],
   "source": [
    "df_dates['month_order']= df_dates.month_order.dt.strftime('%Y-%m')"
   ]
  },
  {
   "cell_type": "code",
   "execution_count": null,
   "metadata": {},
   "outputs": [],
   "source": [
    "not_paid = df_dates.merge(not_paid, on='month_order', how='left').fillna(0)\n",
    "not_paid.head()"
   ]
  },
  {
   "cell_type": "code",
   "execution_count": null,
   "metadata": {},
   "outputs": [],
   "source": [
    "not_paid['size'].mean().round(2)"
   ]
  },
  {
   "cell_type": "markdown",
   "metadata": {},
   "source": [
    "##### On average, 5.92 orders per month are not delivered due to non-payment for the items."
   ]
  },
  {
   "cell_type": "markdown",
   "metadata": {},
   "source": [
    "#### Calculation of the second reason why the order was not delivered - not transferred to the logistics service on time"
   ]
  },
  {
   "cell_type": "code",
   "execution_count": null,
   "metadata": {},
   "outputs": [],
   "source": [
    "# Creating a column 'transferred_carrier' (Transferred to the carrier service)\n",
    "# If there is a date in the order_delivered_carrier_date column (time the order was handed over to the logistics service), \n",
    "# then 1, otherwise 0.\n",
    "df_orders['transferred_carrier']= np.where(df_orders['order_delivered_carrier_date'].isnull(), 0,1)"
   ]
  },
  {
   "cell_type": "code",
   "execution_count": null,
   "metadata": {},
   "outputs": [],
   "source": [
    "df_orders.query('transferred_carrier == 0 and paid == 1').shape\n"
   ]
  },
  {
   "cell_type": "code",
   "execution_count": null,
   "metadata": {},
   "outputs": [],
   "source": [
    "df_orders_items = df_orders.merge(df_items,  on = 'order_id')\n"
   ]
  },
  {
   "cell_type": "markdown",
   "metadata": {},
   "source": [
    "1637 orders were not transferred to the logistics service"
   ]
  },
  {
   "cell_type": "code",
   "execution_count": null,
   "metadata": {},
   "outputs": [],
   "source": [
    "df_orders_items.groupby(['customer_id', 'order_id'])\\\n",
    "    .agg({\"product_id\":\"count\"})\\\n",
    "    .sort_values('product_id')\n",
    "\n",
    "df_orders_items.query('customer_id == \"fc3d1daec319d62d49bfb5e1f83123e9\"')"
   ]
  },
  {
   "cell_type": "markdown",
   "metadata": {},
   "source": [
    "I've confirmed that the delivery time is not dependent on a specific item but rather on the time of order payment."
   ]
  },
  {
   "cell_type": "code",
   "execution_count": null,
   "metadata": {},
   "outputs": [],
   "source": [
    "# Creating a column dif_date_delivery, which displays how many days the transfer of the order to the delivery service was delayed.\n",
    "\n",
    "df_orders_items['dif_date_delivery'] = df_orders_items.order_estimated_delivery_date - df_orders_items.shipping_limit_date"
   ]
  },
  {
   "cell_type": "code",
   "execution_count": null,
   "metadata": {},
   "outputs": [],
   "source": [
    "# Displaying orders that were paid for and not transferred to the logistics service on time.\n",
    "df_orders_items.query('paid == 1 and transferred_carrier == 0 and dif_date_delivery > \"0d\"')\\\n",
    "    .agg({'order_id':'unique'}).count()"
   ]
  },
  {
   "cell_type": "markdown",
   "metadata": {},
   "source": [
    "There are a total of 996 orders that were not transferred to the logistics service on time."
   ]
  },
  {
   "cell_type": "code",
   "execution_count": null,
   "metadata": {},
   "outputs": [],
   "source": [
    "# Displaying paid orders that were not delivered and not transferred to the logistics service on time.\n",
    "df_orders_items.query('order_status != \"delivered\" and paid == 1 and transferred_carrier == 0 and dif_date_delivery > \"0d\"')\\\n",
    "    .agg({'order_id':'unique'})"
   ]
  },
  {
   "cell_type": "markdown",
   "metadata": {},
   "source": [
    "#### The second reason for undelivered but paid items - a total of 994 orders were not transferred to the logistics service on time."
   ]
  },
  {
   "cell_type": "code",
   "execution_count": null,
   "metadata": {},
   "outputs": [],
   "source": [
    "not_transferred_logistics = df_orders_items.query('order_status != \"delivered\" and paid == 1 and transferred_carrier == 0 and dif_date_delivery > \"0d\"')\\\n",
    "    .groupby('month_order', as_index= False)\\\n",
    "    .size()\n",
    "not_transferred_logistics"
   ]
  },
  {
   "cell_type": "code",
   "execution_count": null,
   "metadata": {},
   "outputs": [],
   "source": [
    "start_date = not_transferred_logistics['month_order'].min()\n",
    "end_date = not_transferred_logistics['month_order'].max()\n",
    "date_range = pd.date_range(start=start_date, end=end_date, freq='M')\n",
    "df_dates = pd.DataFrame(date_range, columns=['month_order'])\n",
    "df_dates['month_order']= df_dates.month_order.dt.strftime('%Y-%m')"
   ]
  },
  {
   "cell_type": "code",
   "execution_count": null,
   "metadata": {},
   "outputs": [],
   "source": [
    "not_transferred_logistics = df_dates.merge(not_transferred_logistics, on='month_order', how='left').fillna(0)\n",
    "not_transferred_logistics"
   ]
  },
  {
   "cell_type": "code",
   "execution_count": null,
   "metadata": {},
   "outputs": [],
   "source": [
    "# Calculation of the average number of orders per month that are not delivered due to reason 2 (not transferred to the logistics service on time).\n",
    "not_transferred_logistics['size'].mean().round(2)"
   ]
  },
  {
   "cell_type": "markdown",
   "metadata": {},
   "source": [
    "#### On average, 49.0 orders per month are not delivered due to not being transferred to the logistics service on time."
   ]
  },
  {
   "cell_type": "markdown",
   "metadata": {},
   "source": [
    "#### Calculation of the third reason why the order was not delivered - error in our system"
   ]
  },
  {
   "cell_type": "markdown",
   "metadata": {},
   "source": [
    "We also have erroneous data that exists in the df_orders table but is not in the df_items table. Let me find the erroneous data that was not delivered, but paid for and NOT transferred to the logistics service."
   ]
  },
  {
   "cell_type": "code",
   "execution_count": null,
   "metadata": {},
   "outputs": [],
   "source": [
    "# Joining the df_orders table with the df_items table \n",
    "#(using a left join to include all orders, considering some may be missing in the df_items table).\n",
    "orders_items_left = df_orders.merge(df_items, how= 'left',  on = 'order_id')"
   ]
  },
  {
   "cell_type": "code",
   "execution_count": null,
   "metadata": {},
   "outputs": [],
   "source": [
    "# Creating a column \"data_error\", \n",
    "# if there is an order but no item identifier within the order, then the order data did not make it into the df_items table and is considered erroneous.\n",
    "orders_items_left['data_error']= np.where(orders_items_left['order_item_id'].isnull(), 0,1)\n"
   ]
  },
  {
   "cell_type": "markdown",
   "metadata": {},
   "source": [
    "#### The third reason why the order was not delivered and not transferred to the logistics service but paid for - error in our system"
   ]
  },
  {
   "cell_type": "code",
   "execution_count": null,
   "metadata": {},
   "outputs": [],
   "source": [
    "orders_items_left.query('order_status != \"delivered\" and paid == 1 and transferred_carrier == 0 and data_error == 0')\\\n",
    "    .agg({'order_id':'unique'}).count()"
   ]
  },
  {
   "cell_type": "markdown",
   "metadata": {},
   "source": [
    "#### Conclusion: 628 orders were lost in our system and were not delivered for this reason"
   ]
  },
  {
   "cell_type": "markdown",
   "metadata": {},
   "source": [
    "Calculation of the average number of orders per month that are not delivered due to reason 3 (error in the system)."
   ]
  },
  {
   "cell_type": "code",
   "execution_count": null,
   "metadata": {},
   "outputs": [],
   "source": [
    "error = orders_items_left.query('order_status != \"delivered\" and paid == 1 and transferred_carrier == 0 and data_error == 0')\\\n",
    "    .groupby('month_order', as_index= False)\\\n",
    "    .size()"
   ]
  },
  {
   "cell_type": "code",
   "execution_count": null,
   "metadata": {},
   "outputs": [],
   "source": [
    "start_date = error['month_order'].min()\n",
    "end_date = error['month_order'].max()\n",
    "date_range = pd.date_range(start=start_date, end=end_date, freq='M')\n",
    "df_dates = pd.DataFrame(date_range, columns=['month_order'])\n",
    "df_dates['month_order']= df_dates.month_order.dt.strftime('%Y-%m')"
   ]
  },
  {
   "cell_type": "code",
   "execution_count": null,
   "metadata": {},
   "outputs": [],
   "source": [
    "error = df_dates.merge(error, on='month_order', how='left').fillna(0)\n",
    "error"
   ]
  },
  {
   "cell_type": "code",
   "execution_count": null,
   "metadata": {},
   "outputs": [],
   "source": [
    "error['size'].mean().round(2)"
   ]
  },
  {
   "cell_type": "markdown",
   "metadata": {},
   "source": [
    "#### On average, 27.0 orders per month are not delivered due to errors in the system."
   ]
  },
  {
   "cell_type": "markdown",
   "metadata": {},
   "source": [
    "#### Fourth reason - handed over for delivery, but the logistics service did not deliver the order"
   ]
  },
  {
   "cell_type": "code",
   "execution_count": null,
   "metadata": {},
   "outputs": [],
   "source": [
    "# Creating a column \"delivered\" (delivered to the customer)\n",
    "# If there is a date in the order_delivered_customer_date column (delivery time of the order), then 1, otherwise 0\n",
    "df_orders['delivered']= np.where(df_orders['order_delivered_customer_date'].isnull(), 0,1)"
   ]
  },
  {
   "cell_type": "code",
   "execution_count": null,
   "metadata": {},
   "outputs": [],
   "source": [
    "# Displaying undelivered orders that are paid for and transferred to the logistics service.\n",
    "df_orders.query('order_status != \"delivered\" and paid == 1 and transferred_carrier == 1 and delivered == 0').shape\n",
    "# 1176 заказов"
   ]
  },
  {
   "cell_type": "markdown",
   "metadata": {},
   "source": [
    "Now we need to check if there is still time for the logistics service to deliver."
   ]
  },
  {
   "cell_type": "code",
   "execution_count": null,
   "metadata": {},
   "outputs": [],
   "source": [
    "# Creating a column \"dif_date_delivery\" which shows how many days the delivery service was delayed.\n",
    "df_orders['delivery_delayed'] = df_orders.order_estimated_delivery_date - df_orders.order_delivered_carrier_date\n"
   ]
  },
  {
   "cell_type": "code",
   "execution_count": null,
   "metadata": {},
   "outputs": [],
   "source": [
    "# Displaying undelivered orders that are paid for and transferred to the logistics service, but the promised delivery date has already passed.\n",
    "df_orders.query('order_status != \"delivered\" and paid == 1 and transferred_carrier == 1 and delivered == 0 and delivery_delayed > \"1d\"').shape\n"
   ]
  },
  {
   "cell_type": "markdown",
   "metadata": {},
   "source": [
    "#### Conclusion: 1165 orders are already overdue for delivery and still haven't been delivered to the customer."
   ]
  },
  {
   "cell_type": "markdown",
   "metadata": {},
   "source": [
    "Calculation of the average number of orders per month that are not delivered due to reason 4 (logistics service did not deliver the order).\n"
   ]
  },
  {
   "cell_type": "code",
   "execution_count": null,
   "metadata": {},
   "outputs": [],
   "source": [
    "logistics_not_deliver = df_orders.query('order_status != \"delivered\" and paid == 1 and transferred_carrier == 1 and delivered == 0 and delivery_delayed > \"1d\"')\\\n",
    "    .groupby('month_order', as_index= False)\\\n",
    "    .size()\n",
    "logistics_not_deliver"
   ]
  },
  {
   "cell_type": "code",
   "execution_count": null,
   "metadata": {},
   "outputs": [],
   "source": [
    "start_date = logistics_not_deliver['month_order'].min()\n",
    "end_date = logistics_not_deliver['month_order'].max()\n",
    "date_range = pd.date_range(start=start_date, end=end_date, freq='M')\n",
    "df_dates = pd.DataFrame(date_range, columns=['month_order'])\n",
    "df_dates['month_order']= df_dates.month_order.dt.strftime('%Y-%m')"
   ]
  },
  {
   "cell_type": "code",
   "execution_count": null,
   "metadata": {},
   "outputs": [],
   "source": [
    "logistics_not_deliver = df_dates.merge(logistics_not_deliver, on='month_order', how='left').fillna(0)\n",
    "logistics_not_deliver"
   ]
  },
  {
   "cell_type": "code",
   "execution_count": null,
   "metadata": {},
   "outputs": [],
   "source": [
    "logistics_not_deliver['size'].mean().round(2)"
   ]
  },
  {
   "cell_type": "markdown",
   "metadata": {},
   "source": [
    "#### On average, 48.5 orders per month are not delivered due to the logistics service not delivering the order."
   ]
  },
  {
   "cell_type": "markdown",
   "metadata": {},
   "source": [
    "#### Calculation of the fifth reason why the item was not delivered (item is unavailable)"
   ]
  },
  {
   "cell_type": "code",
   "execution_count": null,
   "metadata": {},
   "outputs": [],
   "source": [
    "df_orders.query('order_status == \"unavailable\" ').shape"
   ]
  },
  {
   "cell_type": "code",
   "execution_count": null,
   "metadata": {},
   "outputs": [],
   "source": [
    "unavailable = df_orders.query('order_status == \"unavailable\" ')\\\n",
    "    .groupby('month_order', as_index= False)\\\n",
    "    .size()\n",
    "unavailable"
   ]
  },
  {
   "cell_type": "code",
   "execution_count": null,
   "metadata": {},
   "outputs": [],
   "source": [
    "start_date = unavailable['month_order'].min()\n",
    "end_date = unavailable['month_order'].max()\n",
    "date_range = pd.date_range(start=start_date, end=end_date, freq='M')\n",
    "df_dates = pd.DataFrame(date_range, columns=['month_order'])\n",
    "df_dates['month_order']= df_dates.month_order.dt.strftime('%Y-%m')"
   ]
  },
  {
   "cell_type": "code",
   "execution_count": null,
   "metadata": {},
   "outputs": [],
   "source": [
    "unavailable = df_dates.merge(unavailable, on='month_order', how='left').fillna(0)\n",
    "unavailable"
   ]
  },
  {
   "cell_type": "code",
   "execution_count": null,
   "metadata": {},
   "outputs": [],
   "source": [
    "unavailable['size'].mean().round(2)"
   ]
  },
  {
   "cell_type": "markdown",
   "metadata": {},
   "source": [
    "#### On average, 27.36.5 orders per month are not delivered due to the item being unavailable."
   ]
  },
  {
   "cell_type": "markdown",
   "metadata": {},
   "source": [
    "### 3. For each item, determine which day of the week it is most frequently purchased."
   ]
  },
  {
   "cell_type": "code",
   "execution_count": null,
   "metadata": {},
   "outputs": [],
   "source": [
    "# Creating a column to store the day of the week when the order was paid for.\n",
    "df_orders_items['week_order'] = df_orders_items.order_purchase_timestamp.dt.day_name()"
   ]
  },
  {
   "cell_type": "code",
   "execution_count": null,
   "metadata": {},
   "outputs": [],
   "source": [
    "# Calculating for each item, which day of the week it is most frequently ordered\n",
    "items_week = df_orders_items.query('paid == 1 & order_status != \"canceled\"')\\\n",
    "    .groupby(['product_id', 'week_order'], as_index=False) \\\n",
    "    .agg({'order_id':'count'}) \\\n",
    "    .rename(columns={'order_id':'quantity_sold'}) \\\n",
    "    .sort_values('quantity_sold', ascending=False)\n",
    "items_week.head()"
   ]
  },
  {
   "cell_type": "code",
   "execution_count": null,
   "metadata": {},
   "outputs": [],
   "source": [
    "# Saving items with the highest number of orders:\n",
    "max_quantity_rows = items_week.loc[items_week.groupby('product_id')['quantity_sold'].idxmax()]"
   ]
  },
  {
   "cell_type": "code",
   "execution_count": null,
   "metadata": {
    "scrolled": true
   },
   "outputs": [],
   "source": [
    "max_quantity_rows.sort_values('quantity_sold', ascending = False)"
   ]
  },
  {
   "cell_type": "markdown",
   "metadata": {},
   "source": [
    "### 4. How many purchases per week does each user make on average (per month)?"
   ]
  },
  {
   "cell_type": "code",
   "execution_count": null,
   "metadata": {},
   "outputs": [],
   "source": [
    "# Creating a column \"month\" (year and month of purchase)\n",
    "df_orders['month']= df_orders.order_purchase_timestamp.dt.strftime('%Y-%m')"
   ]
  },
  {
   "cell_type": "code",
   "execution_count": null,
   "metadata": {},
   "outputs": [],
   "source": [
    "# Saving paid and non-cancelled orders to a separate dataframe.\n",
    "df_paid = df_orders.query('paid == 1 & order_status != \"canceled\"')"
   ]
  },
  {
   "cell_type": "markdown",
   "metadata": {},
   "source": [
    "df_paid = df_paid.astype({'year':'int', 'month': 'int'})\n"
   ]
  },
  {
   "cell_type": "code",
   "execution_count": null,
   "metadata": {
    "scrolled": true
   },
   "outputs": [],
   "source": [
    "# Creating a column 'week' (number of days in the month of purchase divided by 7).\n",
    "df_paid['week'] = (df_paid.order_purchase_timestamp.dt.days_in_month / 7)"
   ]
  },
  {
   "cell_type": "code",
   "execution_count": null,
   "metadata": {},
   "outputs": [],
   "source": [
    "df_paid.head()"
   ]
  },
  {
   "cell_type": "code",
   "execution_count": null,
   "metadata": {},
   "outputs": [],
   "source": [
    "orders_customers = df_paid.merge(df_customers, on = 'customer_id')\n",
    "orders_customers.head()"
   ]
  },
  {
   "cell_type": "code",
   "execution_count": null,
   "metadata": {},
   "outputs": [],
   "source": [
    "# Calculating the number of purchases of an item for each user per month.\n",
    "orders_customers =  orders_customers.groupby(['customer_unique_id','month', 'week'], as_index = False)\\\n",
    "    .agg({'order_id':'count'})\\\n",
    "    .sort_values('order_id',ascending= False)"
   ]
  },
  {
   "cell_type": "code",
   "execution_count": null,
   "metadata": {},
   "outputs": [],
   "source": [
    "orders_customers = orders_customers.rename(columns= {'order_id': 'purchases'})"
   ]
  },
  {
   "cell_type": "code",
   "execution_count": null,
   "metadata": {},
   "outputs": [],
   "source": [
    "orders_customers.head()"
   ]
  },
  {
   "cell_type": "code",
   "execution_count": null,
   "metadata": {},
   "outputs": [],
   "source": [
    "# Creating a column 'purchases_week' (number of purchases per week per month) for each user\n",
    "orders_customers['purchases_week'] = orders_customers.purchases / orders_customers.week\n",
    "orders_customers.head()"
   ]
  },
  {
   "cell_type": "code",
   "execution_count": null,
   "metadata": {},
   "outputs": [],
   "source": [
    "# Calculating the average purchases per week (per month) for users.\n",
    "orders_customers.groupby('customer_unique_id', as_index = False)\\\n",
    "    .agg({'purchases_week':'mean'})"
   ]
  },
  {
   "cell_type": "code",
   "execution_count": null,
   "metadata": {},
   "outputs": [],
   "source": [
    "orders_customers.groupby('customer_unique_id', as_index = False)\\\n",
    "    .agg({'purchases_week':'mean'}).median().round(2)"
   ]
  },
  {
   "cell_type": "markdown",
   "metadata": {},
   "source": [
    "The median value of average purchases per week is 0.23.\n",
    "\n",
    "For the calculation, I used the orders from the df_orders table, as this table contains all the order data, unlike the df_items table."
   ]
  },
  {
   "cell_type": "markdown",
   "metadata": {},
   "source": [
    "### 6. RFM segmentation of users to qualitatively assess our audience.\n",
    " - R - время от последней покупки пользователя до текущей даты, \n",
    " - F - суммарное количество покупок у пользователя за всё время, \n",
    " - M - сумма покупок за всё время. Подробно опиши, как ты создавал кластеры.\n",
    "     "
   ]
  },
  {
   "cell_type": "code",
   "execution_count": null,
   "metadata": {},
   "outputs": [],
   "source": [
    "df_orders.head()"
   ]
  },
  {
   "cell_type": "code",
   "execution_count": null,
   "metadata": {},
   "outputs": [],
   "source": [
    "df_orders.query('paid == 1 & order_status != \"canceled\"').shape"
   ]
  },
  {
   "cell_type": "code",
   "execution_count": null,
   "metadata": {},
   "outputs": [],
   "source": [
    "df = df_orders.merge(df_items, on = 'order_id')"
   ]
  },
  {
   "cell_type": "code",
   "execution_count": null,
   "metadata": {},
   "outputs": [],
   "source": [
    "df = df.merge(df_customers, on = 'customer_id')\n"
   ]
  },
  {
   "cell_type": "code",
   "execution_count": null,
   "metadata": {},
   "outputs": [],
   "source": [
    "# Grouping by users and order creation date. Saving to a new data frame\n",
    "df_paied = df.query('paid == 1 & order_status != \"canceled\"')\\\n",
    "    .groupby(['customer_unique_id', 'order_purchase_timestamp'], as_index =False )\\\n",
    "    .agg({'order_id': 'count', 'order_item_id': 'count', 'price': 'sum'})\\\n",
    "    .sort_values('order_item_id')\n",
    "df_paied.head()"
   ]
  },
  {
   "cell_type": "markdown",
   "metadata": {},
   "source": [
    "Now we need to:\n",
    "\n",
    "- Determine the number of days since the last order for each user.\n",
    "- Calculate the total number of purchases for each user.\n",
    "- Calculate the total purchase amount for each user.\n"
   ]
  },
  {
   "cell_type": "code",
   "execution_count": null,
   "metadata": {},
   "outputs": [],
   "source": [
    "# Setting the date to one day after the maximum order creation date (current date)\n",
    "NOW = df_paied['order_purchase_timestamp'].max() + timedelta(days=1)\n",
    "NOW"
   ]
  },
  {
   "cell_type": "code",
   "execution_count": null,
   "metadata": {},
   "outputs": [],
   "source": [
    "# Selecting the period under consideration (taking the number of days from start to end and adding two days)\n",
    "period = (df_paied['order_purchase_timestamp'].max() - df_paied['order_purchase_timestamp'].min() + timedelta(days=2)).days\n",
    "period # 730\n"
   ]
  },
  {
   "cell_type": "code",
   "execution_count": null,
   "metadata": {},
   "outputs": [],
   "source": [
    "# Creating the 'day_order' column (number of days between order creation and current date)\n",
    "df_paied['day_order'] = df_paied['order_purchase_timestamp'].apply(lambda x: (NOW - x).days)\n",
    "df_paied.head()"
   ]
  },
  {
   "cell_type": "code",
   "execution_count": null,
   "metadata": {},
   "outputs": [],
   "source": [
    "# Calculation of the total sum of all orders for each user.\n",
    "monetary = df_paied.groupby('customer_unique_id', as_index =False)\\\n",
    "    .agg({'price': 'sum'})\\\n",
    "    .rename(columns ={'price': 'monetary' })\n",
    "monetary.head()"
   ]
  },
  {
   "cell_type": "code",
   "execution_count": null,
   "metadata": {},
   "outputs": [],
   "source": [
    "# For the 'days_purchase' column, a lambda function is used,\n",
    "# which finds the minimum value in the group (minimum number of days since the last order)\n",
    "# and assigns the name 'Recency' to this column (indicator of recency).\n",
    "\n",
    "# Function to determine the number of days since the last order (recency)\n",
    "def calculate_recency(x):\n",
    "    return x.min()\n",
    "\n",
    "\n",
    "# For the 'order_purchase_timestamp' column, a lambda function is used,\n",
    "# which counts the number of orders over our 2-year period\n",
    "# and assigns the name 'Frequency' to this column (indicator of frequency).\n",
    "\n",
    "# Function to count the number of orders over the last period (frequency)\n",
    "def calculate_frequency(x, period):\n",
    "    return len([d for d in x if d >= NOW - timedelta(days=period)])\n",
    "\n",
    "# A dictionary named aggr is created, in which two aggregate functions are defined for the columns 'day_order' and 'order_purchase_timestamp'.\n",
    "aggr = {\n",
    "    'day_order': calculate_recency,  \n",
    "    'order_purchase_timestamp': lambda x: calculate_frequency(x, period),\n",
    "}\n",
    "\n",
    "# Grouping by users and applying the aggregate function from the dictionary aggr to each group of data.\n",
    "\n",
    "rfm = df_paied.groupby('customer_unique_id').agg(aggr).reset_index()\n",
    "rfm.rename(columns={'day_order': 'recency', 'order_purchase_timestamp': 'frequency'}, inplace=True)\n"
   ]
  },
  {
   "cell_type": "code",
   "execution_count": null,
   "metadata": {},
   "outputs": [],
   "source": [
    "rfm = rfm.merge(monetary, on = 'customer_unique_id')\n",
    "rfm.head()"
   ]
  },
  {
   "cell_type": "code",
   "execution_count": null,
   "metadata": {},
   "outputs": [],
   "source": [
    "# Outputting approximate ranges.\n",
    "rfm.describe()"
   ]
  },
  {
   "cell_type": "code",
   "execution_count": null,
   "metadata": {
    "scrolled": true
   },
   "outputs": [],
   "source": [
    "# Plotting to visualize the distribution of recency.\n",
    "plt.figure(figsize=(20,10))\n",
    "sns.histplot(rfm.recency) "
   ]
  },
  {
   "cell_type": "markdown",
   "metadata": {},
   "source": [
    "Number of days since the last purchase (recency):\n",
    "\n",
    "- Rank 3: 0 to 300 days\n",
    "- Rank 2: 300 to 500 days\n",
    "- Rank 1: 500 to max"
   ]
  },
  {
   "cell_type": "code",
   "execution_count": null,
   "metadata": {},
   "outputs": [],
   "source": [
    "# Plotting to visualize the distribution of frequency\n",
    "plt.figure(figsize=(20,10))\n",
    "sns.histplot(rfm.frequency) "
   ]
  },
  {
   "cell_type": "code",
   "execution_count": null,
   "metadata": {},
   "outputs": [],
   "source": [
    "rfm.groupby('frequency').agg({'customer_unique_id': 'count'})"
   ]
  },
  {
   "cell_type": "markdown",
   "metadata": {},
   "source": [
    "Number of purchases in the last period (frequency)\n",
    "\n",
    "I see that most users made only one purchase.\n",
    "\n",
    "I'll define custom ranges:\n",
    "\n",
    "- Rank 1: 1 purchase\n",
    "- Rank 2: 2 or more purchases\n",
    "- Rank 3: 3 or more purchases\n",
    "    "
   ]
  },
  {
   "cell_type": "code",
   "execution_count": null,
   "metadata": {},
   "outputs": [],
   "source": [
    "# Plotting to visualize the distribution ofmonetary\n",
    "plt.figure(figsize=(20,10))\n",
    "sns.histplot(rfm.monetary) "
   ]
  },
  {
   "cell_type": "code",
   "execution_count": null,
   "metadata": {},
   "outputs": [],
   "source": [
    "rfm.groupby('monetary', as_index = False)\\\n",
    "    .agg({'customer_unique_id':'count'})\\\n",
    "    .sort_values('customer_unique_id', ascending =False)"
   ]
  },
  {
   "cell_type": "markdown",
   "metadata": {},
   "source": [
    "Order amount (monetary)\n",
    "\n",
    "I see there are some significant outliers, so I'll define custom ranges:\n",
    "\n",
    "- Rank 1: 0 to 1000\n",
    "- Rank 2: 1001 to 4000\n",
    "- Rank 3: 4001 to maximum"
   ]
  },
  {
   "cell_type": "code",
   "execution_count": null,
   "metadata": {},
   "outputs": [],
   "source": [
    "def r_score(x):\n",
    "    if x <= 300:\n",
    "        return 3\n",
    "    elif 300 < x <= 500:\n",
    "        return 2\n",
    "    else:\n",
    "        return 1\n",
    "\n"
   ]
  },
  {
   "cell_type": "code",
   "execution_count": null,
   "metadata": {},
   "outputs": [],
   "source": [
    "\n",
    "def f_score(x):\n",
    "    if x == 1 :\n",
    "        return 1\n",
    "    elif x==2 :\n",
    "        return 2\n",
    "    elif x >= 3:\n",
    "        return 3\n",
    "   \n",
    "   "
   ]
  },
  {
   "cell_type": "code",
   "execution_count": null,
   "metadata": {},
   "outputs": [],
   "source": [
    "\n",
    "def m_score(x):\n",
    "    if x < 1000 :\n",
    "        return 1\n",
    "    elif x >= 1000 and x <= 4000 :\n",
    "        return 2\n",
    "    elif x > 4001 :\n",
    "        return 3\n"
   ]
  },
  {
   "cell_type": "code",
   "execution_count": null,
   "metadata": {},
   "outputs": [],
   "source": [
    "# Calling the function and saving the results in columns R/F/M\n",
    "rfm['R'] = rfm['recency'].apply(lambda x: r_score(x))\n",
    "rfm['F'] = rfm['frequency'].apply(lambda x: f_score(x))\n",
    "rfm['M'] = rfm['monetary'].apply(lambda x: m_score(x))"
   ]
  },
  {
   "cell_type": "code",
   "execution_count": null,
   "metadata": {},
   "outputs": [],
   "source": [
    "rfm.isna().sum()"
   ]
  },
  {
   "cell_type": "code",
   "execution_count": null,
   "metadata": {},
   "outputs": [],
   "source": [
    "# Combining the R, F, and M scores into one RFM Score.\n",
    "rfm['RFM_Score'] = rfm['R'].map(str) + rfm['F'].map(str) + rfm['M'].map(str)"
   ]
  },
  {
   "cell_type": "markdown",
   "metadata": {},
   "source": [
    "#### Description of segments\n",
    "\n",
    "##### Top Customers:\n",
    "Customers who purchase frequently, spend a lot of money, and made their last purchase recently.\n",
    "- R: 3\n",
    "- F: 3\n",
    "- M: 3\n",
    "\n",
    "   \n",
    "##### Regular Customers:\n",
    "Customers who purchase frequently, spend average amounts of money, and made their last purchase recently.\n",
    "- R: 3, 2, 2\n",
    "- F: 3, 3, 2\n",
    "- M: 2, 2, 2\n",
    "\n",
    "\n",
    "##### Potential Regular Customers:\n",
    "Customers who made purchases recently, spend average amounts of money, and have the potential to purchase more frequently.\n",
    "- R: 3, 3, 3, 1, 2\n",
    "- F: 2, 1, 1, 2, 1\n",
    "- M: 2, 3, 2, 3, 3\n",
    "\n",
    "\n",
    "##### Loyal, Low Spenders:\n",
    "Customers who purchase frequently but spend little money and made their last purchase recently.\n",
    "- R: 3, 3, 2, 2\n",
    "- F: 3, 2, 3, 2\n",
    "- M: 1, 1, 1, 1\n",
    "\n",
    "\n",
    " \n",
    "##### New Customers:\n",
    "Customers who made purchases recently, made only one purchase, and spend little money.\n",
    "- R: 3\n",
    "- F: 1\n",
    "- M: 1\n",
    "\n",
    "\n",
    "##### Potential High Spenders:\n",
    "Customers who purchase frequently, spend a lot of money, and have the potential to purchase more frequently.\n",
    "- R: 2\n",
    "- F: 3\n",
    "- M: 3\n",
    "\n",
    "    \n",
    "##### Struggling Customers:\n",
    "Customers who haven't made purchases recently, made only one purchase, and spend little money.\n",
    "- R: 2, 2\n",
    "- F: 1, 1\n",
    "- M: 1, 2\n",
    "\n",
    "    \n",
    "##### Lost Customers:\n",
    "Customers who haven't made purchases for a long time, made only one purchase, varying amounts of money spent.\n",
    "- R: 1, 1, 1, 1, 1\n",
    "- F: 1, 2, 1, 1, 3\n",
    "- M: 1, 1, 2, 3, 1"
   ]
  },
  {
   "cell_type": "code",
   "execution_count": null,
   "metadata": {},
   "outputs": [],
   "source": [
    "# segment pattern\n",
    "segt_map = {\n",
    "    r'333': 'Top Customers',\n",
    "    r'332|232|222': 'Regular Customers',\n",
    "    r'322|313|312|123|213': 'Potential Regular Customers',\n",
    "    r'331|321|231|221': 'Loyal, Low Spenders',\n",
    "    r'311': 'New Customers',\n",
    "    r'233': 'Potential High Spenders',\n",
    "    r'211|212': 'Struggling Customers',\n",
    "    r'111|121|112|113|131': 'Lost Customers'\n",
    "    \n",
    "}\n",
    "\n",
    "\n",
    "rfm['segment'] = rfm['RFM_Score']\n",
    "# Replace value by key\n",
    "rfm['segment'] = rfm['segment'].replace(segt_map, regex=True)\n"
   ]
  },
  {
   "cell_type": "code",
   "execution_count": null,
   "metadata": {},
   "outputs": [],
   "source": [
    "rfm.head()"
   ]
  },
  {
   "cell_type": "code",
   "execution_count": null,
   "metadata": {},
   "outputs": [],
   "source": [
    "# Calculation of the number of users in segments\n",
    "data = rfm.groupby('segment',as_index = False)\\\n",
    "    .agg({'customer_unique_id':'count'})\\\n",
    "    .sort_values('customer_unique_id', ascending = False)\\\n",
    "    .rename(columns = {'customer_unique_id':'number_of_users'})\n",
    "data"
   ]
  },
  {
   "cell_type": "code",
   "execution_count": null,
   "metadata": {},
   "outputs": [],
   "source": [
    "sns.set(\n",
    "    font_scale =2,\n",
    "    style = 'whitegrid',\n",
    "    rc = {'figure.figsize' : (50,20)}\n",
    ")\n",
    "sns.barplot(data= data, x= 'segment', y = 'number_of_users')"
   ]
  },
  {
   "cell_type": "markdown",
   "metadata": {},
   "source": [
    "The highest number of new customers is observed.\n",
    "\n",
    "There is also a significantly large number of users classified as Struggling Customers\n",
    "(users who have not made purchases for a long time, have made only one purchase, and spend little money)."
   ]
  },
  {
   "cell_type": "code",
   "execution_count": null,
   "metadata": {},
   "outputs": [],
   "source": []
  }
 ],
 "metadata": {
  "kernelspec": {
   "display_name": "Python 3",
   "language": "python",
   "name": "python3"
  },
  "language_info": {
   "codemirror_mode": {
    "name": "ipython",
    "version": 3
   },
   "file_extension": ".py",
   "mimetype": "text/x-python",
   "name": "python",
   "nbconvert_exporter": "python",
   "pygments_lexer": "ipython3",
   "version": "3.7.3"
  }
 },
 "nbformat": 4,
 "nbformat_minor": 4
}
